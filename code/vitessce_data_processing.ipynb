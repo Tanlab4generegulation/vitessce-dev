{
 "cells": [
  {
   "cell_type": "markdown",
   "id": "8e5bb568-e352-4a70-a87a-af73ad47dd0f",
   "metadata": {},
   "source": [
    "# Convert Data\n",
    "\n",
    "Need to convert the test data to be vitessce complient\n",
    "Looks like I'll need about 5 or so files\n",
    "\n",
    "## Files for running in python notebook\n",
    "1. The CODEX images\n",
    "    - in python, can ome-zarr or ome-tiff. Need conversion for either,\n",
    "        - ome-zarr: https://github.com/vitessce/vitessce-python/blob/main/demos/codeluppi-2018/src/convert_to_ome_zarr.py\n",
    "        - ome.tiff: https://pypi.org/project/tifffile/\n",
    "    - as of now, multi-image only works for ome.tiff\n",
    "2. Segmentation masks\n",
    "    - this can be ome-tiff\n",
    "    - Try as JSON? This can remember cell associations\n",
    "3. Expression values\n",
    "4. Metadata/annotations\n",
    "5. Dimension reductions\n",
    "\n",
    "## Files for React app\n",
    "Based on https://github.com/vitessce/vitessce-python/tree/main/demos/codeluppi-2018\n",
    "1. Segmentations\n",
    "    - JSON file that just has polygon coordinates. dump from dictionary that has cell ID keys\n",
    "2. Cell meta\n",
    "    - csv\n",
    "    - reductions, cell centroids, cell IDs as index\n",
    "3. Expression\n",
    "    - simple csv. Cell ID as row, marker as columns, fill with X\n",
    "4. Images\n",
    "    - ome.zarr\n",
    "\n",
    "## Theming\n",
    "### Neighborhood names\n",
    "neighborhood_names_zeroindex <- c('0' = \"HSC / Mature Myeloid\",\n",
    "                                  \"1\" = \"Erythroid/Myeloid\",\n",
    "                                  \"2\" = \"PC/Arteriolar\",\n",
    "                                  \"3\" = \"Erythroid\",\n",
    "                                  \"4\" = \"Arteriolar\",\n",
    "                                  \"5\" = \"Erythroid\",\n",
    "                                  \"6\" = \"Lymphoid\",\n",
    "                                  \"7\" = \"Erythroid/Myeloid/Lymphoid\",\n",
    "                                  \"8\" = \"Early Myeloid / Endosteal\",\n",
    "                                  \"9\" = \"Myeloid/Lymphoid\",\n",
    "                                  \"10\" = \"HSPC/Intermediate Myeloid\",\n",
    "                                  \"11\" = \"Erythroid/Myeloid/Lymphoid\",\n",
    "                                  \"12\" = \"Erythroid/Myeloid\",\n",
    "                                  \"13\" = \"Early Myeloid / Arteriolar\",\n",
    "                                  \"14\" = \"Peri-Arterolar Lymphoid\")\n",
    "\n",
    "nbs_cols = c(\"0\"= \"#A8D37F\", \"1\" =\"#51C8EB\", \"2\" =\"#AF7AB5\", \"3\" =\"#FBED24\", \"4\" =\"#FF0000\", \"5\"=\"#FBED24\",\"6\"=\"#89919C\", \"7\"=\"#BD7CB5\", \"8\"=\"#4B409A\", \"9\"=\"#FFA500\",\"10\"=\"#A15A26\", \"11\"=\"#BD7CB5\",\"12\"=\"#BD7CB5\", \"13\"=\"#51C8EB\", \"14\"= \"#4B409A\")\t\n",
    "\n",
    "### Cell segmentation colors\n",
    "cell_order <- c(\"HSC\", \"SPINK2+ HSPC\", \"HSPC\", \"GMP\", \"GMP/Myeloblast\", \"Early Myeloid Progenitor\", \"Intermediate Myeloid\", \"Mature Myeloid\", \"Monocytes\", \"Non-Classical Monocyte\", \"Macrophages\", \"pDC\", \"CLP\", \"Immature_B_Cell\", \"B-Cells\", \"CD4+ T-Cell\", \"CD8+ T-Cell\", \"Plasma Cells\", \"MEP/Early Erythroblast\", \"CD34+ CD61+\", \"Erythroblast\", \"Erythroid\", \"GATA1neg_Mks\", \"GATA1pos_Mks\", \"Adipo-MSC\", \"THY1+ MSC\", \"Adipocyte\", \"Endosteal\", \"AEC\", \"SEC\", \"VSMC\", \"Schwann Cells\")\n",
    "\n",
    "cal2_cols <- c(\"#CF9FFF\", \"#E7C7DC\", \"#CAA7DD\", \"#A8A2D2\", \"#B6D0E2\", \"#2874A6\", \"#5599C8\", \"#AEC6CF\", \"#6495ED\", \"#64b8ed\", \"#96C5D7\", \"#40B5AD\", \"#8FCACA\", \"#CCE2CB\", \"#63BA97\", \"#7DB954\", \"#64864A\", \"#019477\", \"#953553\", \"#A1045A\", \"#a15891\", \"#9C58A1\", \"#79127F\", \"#BF40BF\", \"#FFD580\", \"#FFC8A2\", \"#FDDA0D\", \"#F3B0C3\", \"#FFBF00\", \"#ff9d5c\", \"#DD3F4E\", \"#FF69B4\")                                  \n",
    "\n",
    "- Not sure if the image transpose is necessary...\n"
   ]
  },
  {
   "cell_type": "code",
   "execution_count": 1,
   "id": "5e21ba24-714f-42ef-a55f-2b4cf9a461e8",
   "metadata": {},
   "outputs": [],
   "source": [
    "import tifffile as tff\n",
    "import numpy as np\n",
    "import pandas as pd\n",
    "import matplotlib.pyplot as plt\n",
    "import os\n",
    "import anndata as ad\n",
    "import pickle as pk\n",
    "import scanpy as sc\n",
    "from vitessce.data_utils import (\n",
    "    multiplex_img_to_ome_zarr,\n",
    "    optimize_adata,\n",
    "    VAR_CHUNK_SIZE,\n",
    ")\n",
    "from vitessce import (\n",
    "    VitessceConfig,\n",
    "    Component as cm,\n",
    "    CoordinationType as ct,\n",
    "    AnnDataWrapper,\n",
    "    OmeTiffWrapper,\n",
    "    OmeZarrWrapper,\n",
    "    CsvWrapper,\n",
    "    MultiImageWrapper,\n",
    "    AbstractWrapper,\n",
    ")\n",
    "\n",
    "from ome_zarr.format import FormatV02\n",
    "from ome_zarr.writer import write_image\n",
    "from ome_zarr.io import parse_url\n",
    "import zarr\n",
    "import xml.etree.ElementTree as ET \n",
    "import json"
   ]
  },
  {
   "cell_type": "markdown",
   "id": "0bbcef08-1ed9-4fbb-853e-530d903aff1a",
   "metadata": {},
   "source": [
    "## Preparing full size H10 data"
   ]
  },
  {
   "cell_type": "code",
   "execution_count": 2,
   "id": "8bbf271b-9d09-44ea-885b-5b92f02f083a",
   "metadata": {},
   "outputs": [],
   "source": [
    "# channel_names = pd.read_table(\"/mnt/isilon/cscb/codex/pillaiv/SCTC-VP-15/code/forQuPath/channelNames_cohort2.txt\", header=None)\n",
    "# channel_names = channel_names.iloc[:,0].to_list()"
   ]
  },
  {
   "cell_type": "code",
   "execution_count": 2,
   "id": "9a548f2a-3cfa-4e26-9c50-35ac5c153259",
   "metadata": {},
   "outputs": [],
   "source": [
    "img = tff.TiffFile(\"/mnt/isilon/tan_lab_imaging/FUSION/NBM/NBM27_H10_CITRATE_REIMAGE/H10/Scan1/H10_Scan1.qptiff\")"
   ]
  },
  {
   "cell_type": "code",
   "execution_count": 3,
   "id": "755f514a-a081-4a08-80ad-8f5f2e60721f",
   "metadata": {},
   "outputs": [
    {
     "data": {
      "text/plain": [
       "dict_keys(['index', '_pages', 'levels', 'shape', 'axes', 'dtype', 'kind', 'name', 'transform', 'keyframe', 'parent', '_len'])"
      ]
     },
     "execution_count": 3,
     "metadata": {},
     "output_type": "execute_result"
    }
   ],
   "source": [
    "img.series[0].__dict__.keys()"
   ]
  },
  {
   "cell_type": "code",
   "execution_count": 4,
   "id": "08b00fab-567e-4ee9-8725-3768f03772ac",
   "metadata": {},
   "outputs": [],
   "source": [
    "root = ET.fromstring(img.pages[0].description)"
   ]
  },
  {
   "cell_type": "code",
   "execution_count": 5,
   "id": "f80a6f20-d19b-4edb-806b-136e639d4e00",
   "metadata": {},
   "outputs": [],
   "source": [
    "for s in root.findall('ScanProfile'):\n",
    "    s_dict = json.loads(s.text)\n",
    "    s_dict = s_dict['experimentDescription']['wells']"
   ]
  },
  {
   "cell_type": "code",
   "execution_count": 6,
   "id": "e0b4107b-2851-41fd-9086-29d0494618bf",
   "metadata": {},
   "outputs": [
    {
     "data": {
      "text/plain": [
       "54"
      ]
     },
     "execution_count": 6,
     "metadata": {},
     "output_type": "execute_result"
    }
   ],
   "source": [
    "markers = ['DAPI']\n",
    "for w in s_dict:\n",
    "    for w_ in w['items']:\n",
    "        mname = w_['markerName']\n",
    "        if mname != '--' and mname not in markers:\n",
    "            markers.append(mname)\n",
    "len(markers)\n"
   ]
  },
  {
   "cell_type": "code",
   "execution_count": 12,
   "id": "bccbb0f8-950f-4796-89d4-9bce97a4786e",
   "metadata": {},
   "outputs": [],
   "source": [
    "img_dat = img.series[0].asarray()\n",
    "img_dat = img_dat.astype(np.dtype(\"<u2\"))\n",
    "# img_dat = np.transpose(img_dat, axes=(0, 2, 1))"
   ]
  },
  {
   "cell_type": "code",
   "execution_count": 101,
   "id": "b2eb4aaa-0883-4914-b4e6-7fb8151e7d21",
   "metadata": {},
   "outputs": [
    {
     "data": {
      "text/plain": [
       "(54, 24480, 16320)"
      ]
     },
     "execution_count": 101,
     "metadata": {},
     "output_type": "execute_result"
    }
   ],
   "source": [
    "img_dat.shape"
   ]
  },
  {
   "cell_type": "code",
   "execution_count": 13,
   "id": "54345b5d-d1a2-42e4-b6e3-0b5d475efbab",
   "metadata": {},
   "outputs": [
    {
     "data": {
      "text/plain": [
       "(1, 54, 1, 24480, 16320)"
      ]
     },
     "execution_count": 13,
     "metadata": {},
     "output_type": "execute_result"
    }
   ],
   "source": [
    "img_dat = np.expand_dims(img_dat, axis=1)\n",
    "img_dat = np.expand_dims(img_dat, axis=0)\n",
    "img_dat.shape"
   ]
  },
  {
   "cell_type": "code",
   "execution_count": 107,
   "id": "d3f8c1cd-fdd8-44d4-8054-43c0dba4a21c",
   "metadata": {},
   "outputs": [],
   "source": [
    "# # trim it down to...\n",
    "moi = ['DAPI', 'VIM', 'NAKATPASE', 'CD45']\n",
    "marker_i = [np.where(np.array(markers) == m) for m in moi]\n",
    "marker_i = np.array(marker_i).flatten()"
   ]
  },
  {
   "cell_type": "code",
   "execution_count": 108,
   "id": "03173600-7067-4242-b927-f9338c8ab50b",
   "metadata": {},
   "outputs": [
    {
     "data": {
      "text/plain": [
       "array([ 0,  9, 42, 14])"
      ]
     },
     "execution_count": 108,
     "metadata": {},
     "output_type": "execute_result"
    }
   ],
   "source": [
    "marker_i"
   ]
  },
  {
   "cell_type": "code",
   "execution_count": 109,
   "id": "6adcead3-33f6-4301-8312-af9281763d9a",
   "metadata": {},
   "outputs": [
    {
     "data": {
      "text/plain": [
       "(1, 4, 1, 24480, 16320)"
      ]
     },
     "execution_count": 109,
     "metadata": {},
     "output_type": "execute_result"
    }
   ],
   "source": [
    "img_dat_smaller = img_dat[:,marker_i,:,:,:]\n",
    "img_dat_smaller.shape"
   ]
  },
  {
   "cell_type": "code",
   "execution_count": 27,
   "id": "608339e2-3938-40d3-a41a-1cc17c8b8d54",
   "metadata": {},
   "outputs": [],
   "source": [
    "# masks = tff.TiffFile(\"../data/test/bitmask_small.tiff\")\n",
    "# masks_dat = masks.series[0].asarray()\n",
    "# masks_dat = masks_dat.astype(np.dtype(\"<u2\"))\n",
    "# masks_dat = np.transpose(masks_dat, axes=(1, 0))"
   ]
  },
  {
   "cell_type": "code",
   "execution_count": 31,
   "id": "ded366c2-56f8-4b01-8a53-6a88885b1c11",
   "metadata": {},
   "outputs": [
    {
     "data": {
      "text/plain": [
       "(2000, 2000)"
      ]
     },
     "execution_count": 31,
     "metadata": {},
     "output_type": "execute_result"
    }
   ],
   "source": [
    "# masks_dat.shape"
   ]
  },
  {
   "cell_type": "code",
   "execution_count": 9,
   "id": "40babc1c-53e4-4a57-bd0b-9f9a1b1c8892",
   "metadata": {},
   "outputs": [
    {
     "data": {
      "text/plain": [
       "(1, 4, 1, 9504, 10031)"
      ]
     },
     "execution_count": 9,
     "metadata": {},
     "output_type": "execute_result"
    }
   ],
   "source": [
    "# img_dat_smaller.shape\n",
    "# img_dat_smaller = np.expand_dims(img_dat_smaller, axis=1)\n",
    "# img_dat_smaller = np.expand_dims(img_dat_smaller, axis=0)\n",
    "# img_dat_smaller.shape"
   ]
  },
  {
   "cell_type": "markdown",
   "id": "c40ff9fa-c332-42bf-b20a-c5aaa0c0692c",
   "metadata": {},
   "source": [
    "### Making ome-tiff"
   ]
  },
  {
   "cell_type": "code",
   "execution_count": 36,
   "id": "d3fca66a-0d35-44de-8583-a326955e39de",
   "metadata": {},
   "outputs": [],
   "source": [
    "# CODEX data\n",
    "subresolutions = 1\n",
    "pixelsize = 0.29  # micrometer, just using what was in example, probably wrong\n",
    "with tff.TiffWriter('../data/test/converted/codex.ome.tif', ome=True) as tif:\n",
    "    metadata={\n",
    "        'axes': 'CYX',\n",
    "        'Channel': {'Name': channel_names},\n",
    "    }\n",
    "    # options = dict(\n",
    "    #     photometric='minisblack',\n",
    "    #     tile=(128, 128),\n",
    "    #     compression='jpeg',\n",
    "    #     resolutionunit='CENTIMETER'\n",
    "    # )\n",
    "    tif.write(\n",
    "        img_dat,\n",
    "        # subifds=subresolutions,\n",
    "        metadata=metadata,\n",
    "    )"
   ]
  },
  {
   "cell_type": "code",
   "execution_count": 39,
   "id": "22dc2f1d-0c81-429f-89e5-e8dc6f49966c",
   "metadata": {},
   "outputs": [],
   "source": [
    "# Mask data\n",
    "subresolutions = 1\n",
    "pixelsize = 0.29  # micrometer, just using what was in example, probably wrong\n",
    "with tff.TiffWriter('../data/test/converted/masks.ome.tif', ome=True) as tif:\n",
    "    metadata={\n",
    "        'axes': 'YX',\n",
    "    }\n",
    "    options = dict(\n",
    "        photometric='minisblack',\n",
    "        # tile=(128, 128),\n",
    "        # compression='jpeg',\n",
    "        # resolutionunit='CENTIMETER'\n",
    "    )\n",
    "    tif.write(\n",
    "        masks_dat,\n",
    "        # subifds=subresolutions,\n",
    "        metadata=metadata,\n",
    "        **options\n",
    "    )"
   ]
  },
  {
   "cell_type": "code",
   "execution_count": null,
   "id": "2b27e554-ce74-4af9-b00a-464a9125ac33",
   "metadata": {},
   "outputs": [],
   "source": [
    "# Mask csv\n",
    "# see \"Make_small_data\" notebook"
   ]
  },
  {
   "cell_type": "markdown",
   "id": "bb6f0c8e-2976-4bcd-a751-a4c6efa71855",
   "metadata": {
    "jp-MarkdownHeadingCollapsed": true
   },
   "source": [
    "### Making ome-zarr\n",
    "code from https://github.com/vitessce/vitessce-python/blob/main/demos/codeluppi-2018/src/convert_to_ome_zarr.py"
   ]
  },
  {
   "cell_type": "code",
   "execution_count": null,
   "id": "2d9d8a18-2169-4ae0-9539-2f1cdb3b40d1",
   "metadata": {
    "jupyter": {
     "source_hidden": true
    }
   },
   "outputs": [],
   "source": [
    "# # for channel_i, channel_name in enumerate(channel_names):\n",
    "# #     img_arr[channel_i, :, :] = img_dat[channel_i]\n",
    "\n",
    "# multiplex_img_to_ome_zarr(\n",
    "#     img_dat,\n",
    "#     markers,\n",
    "#     \"../data/test/converted/codex_img.ome.zarr\",\n",
    "#     img_name=\"Image\",\n",
    "#     chunks=(1, 512, 512),\n",
    "#     axes=\"tczyx\",\n",
    "# )"
   ]
  },
  {
   "cell_type": "code",
   "execution_count": 8,
   "id": "f30c2d2d-5b61-49b9-8506-957d3f8348b8",
   "metadata": {
    "jupyter": {
     "source_hidden": true
    }
   },
   "outputs": [
    {
     "data": {
      "text/plain": [
       "(4, 9504, 10031)"
      ]
     },
     "execution_count": 8,
     "metadata": {},
     "output_type": "execute_result"
    }
   ],
   "source": [
    "img_dat_smaller.shape"
   ]
  },
  {
   "cell_type": "code",
   "execution_count": 11,
   "id": "de2f5390-9a84-48c8-9d1e-92c854dd12eb",
   "metadata": {
    "jupyter": {
     "source_hidden": true
    }
   },
   "outputs": [],
   "source": [
    "# making an even smaller image file\n",
    "multiplex_img_to_ome_zarr(\n",
    "    img_dat_smaller,\n",
    "    markers,\n",
    "    \"../data/test/converted/HVCD1_wrapper.ome.zarr\",\n",
    "    img_name=\"HVCD1_reg1\",\n",
    "    chunks=(1, 512, 512),\n",
    "    axes=\"cyx\",\n",
    ")"
   ]
  },
  {
   "cell_type": "markdown",
   "id": "c03d16c4-bb54-43bf-9236-2605801cffe0",
   "metadata": {},
   "source": [
    "### Making OME-NGFF (zarr)"
   ]
  },
  {
   "cell_type": "code",
   "execution_count": 25,
   "id": "9cc2249e-3dc6-4156-a0bf-cadd42a8d566",
   "metadata": {},
   "outputs": [],
   "source": [
    "path = \"../data/H10/H10_ngff_image.zarr\"\n",
    "size_xy = 512"
   ]
  },
  {
   "cell_type": "code",
   "execution_count": 26,
   "id": "774acc85-5e5d-4824-b833-dc6a0fb7b430",
   "metadata": {},
   "outputs": [],
   "source": [
    "store = parse_url(path, mode=\"w\").store\n",
    "root = zarr.group(store=store)"
   ]
  },
  {
   "cell_type": "code",
   "execution_count": 14,
   "id": "65446fec-55c5-4786-ad24-7ada120b1bad",
   "metadata": {
    "collapsed": true,
    "jupyter": {
     "outputs_hidden": true,
     "source_hidden": true
    }
   },
   "outputs": [
    {
     "data": {
      "text/plain": [
       "['DAPI',\n",
       " 'CD19',\n",
       " 'CD4',\n",
       " 'ASMA',\n",
       " 'CD44',\n",
       " 'CD271',\n",
       " 'CD71',\n",
       " 'CD90',\n",
       " 'CD68',\n",
       " 'VIM',\n",
       " 'SPINK2',\n",
       " 'CD45RA',\n",
       " 'CD117',\n",
       " 'FOXC1',\n",
       " 'CD45',\n",
       " 'CD61',\n",
       " 'CD8',\n",
       " 'CD11C',\n",
       " 'CD49F',\n",
       " 'VECAD',\n",
       " 'ADIPOQ',\n",
       " 'CD15',\n",
       " 'CD123',\n",
       " 'CD14',\n",
       " 'CD138',\n",
       " 'PLP1',\n",
       " 'HLA-DR',\n",
       " 'CD11B',\n",
       " 'CD34',\n",
       " 'CD10',\n",
       " 'CD79A',\n",
       " 'PAX5',\n",
       " 'TGFB1',\n",
       " 'MastCellTryptase',\n",
       " 'VCAM1',\n",
       " 'CD146',\n",
       " 'Ki67',\n",
       " 'CD3e',\n",
       " 'CD33',\n",
       " 'GATA1',\n",
       " 'CD56',\n",
       " 'CXCL12',\n",
       " 'NAKATPASE',\n",
       " 'BCL2',\n",
       " 'GYPC',\n",
       " 'HIF1A',\n",
       " 'MPO',\n",
       " 'OXPHOS',\n",
       " 'CD38',\n",
       " 'CD141',\n",
       " 'BCAT',\n",
       " 'PDPN',\n",
       " 'CD163',\n",
       " 'CXCR4']"
      ]
     },
     "execution_count": 14,
     "metadata": {},
     "output_type": "execute_result"
    }
   ],
   "source": [
    "markers"
   ]
  },
  {
   "cell_type": "code",
   "execution_count": 27,
   "id": "92b644ba-9a97-423e-a2b2-46dc1c3c3514",
   "metadata": {
    "jupyter": {
     "source_hidden": true
    }
   },
   "outputs": [],
   "source": [
    "# shit...I think i need to list every channel...\n",
    "root.attrs[\"omero\"] = {\n",
    "    \"name\": \"H10\",\n",
    "    \"version\": \"0.3\",\n",
    "    \"rdefs\" : {},\n",
    "    \"channels\": [{\n",
    "        \"color\": \"FFFFFF\",\n",
    "        \"window\": {\"start\": 0, \"end\": 240},\n",
    "        \"label\": \"DAPI\",\n",
    "        \"active\": True,\n",
    "    },\n",
    "    {\n",
    "        \"color\": \"9700FF\",\n",
    "        \"window\": {\"start\": 0, \"end\": 240},\n",
    "        \"label\": \"CD19\",\n",
    "        \"active\": True,\n",
    "    },\n",
    "    {\n",
    "        \"color\": \"FFDE00\",\n",
    "        \"window\": {\"start\": 0, \"end\": 240},\n",
    "        \"label\": \"CD4\",\n",
    "        \"active\": True,\n",
    "    },\n",
    "    {\n",
    "        \"color\": \"FF0000\",\n",
    "        \"window\": {\"start\": 0, \"end\": 240},\n",
    "        \"label\": \"ASMA\",\n",
    "        \"active\": True,\n",
    "    },\n",
    "    {\n",
    "        \"color\": \"FFDE00\",\n",
    "        \"window\": {\"start\": 0, \"end\": 240},\n",
    "        \"label\": \"CD44\",\n",
    "        \"active\": True,\n",
    "    },\n",
    "    {\n",
    "        \"color\": \"FFDE00\",\n",
    "        \"window\": {\"start\": 0, \"end\": 240},\n",
    "        \"label\": \"CD271\",\n",
    "        \"active\": True,\n",
    "    },\n",
    "    {\n",
    "        \"color\": \"FFDE00\",\n",
    "        \"window\": {\"start\": 0, \"end\": 240},\n",
    "        \"label\": \"CD71\",\n",
    "        \"active\": True,\n",
    "    },\n",
    "    {\n",
    "        \"color\": \"FFDE00\",\n",
    "        \"window\": {\"start\": 0, \"end\": 240},\n",
    "        \"label\": \"CD90\",\n",
    "        \"active\": True,\n",
    "    },\n",
    "    {\n",
    "        \"color\": \"FFDE00\",\n",
    "        \"window\": {\"start\": 0, \"end\": 240},\n",
    "        \"label\": \"CD68\",\n",
    "        \"active\": True,\n",
    "    },\n",
    "    {\n",
    "        \"color\": \"FFDE00\",\n",
    "        \"window\": {\"start\": 0, \"end\": 240},\n",
    "        \"label\": \"VIM\",\n",
    "        \"active\": True,\n",
    "    },\n",
    "    {\n",
    "        \"color\": \"FFDE00\",\n",
    "        \"window\": {\"start\": 0, \"end\": 240},\n",
    "        \"label\": \"SPINK2\",\n",
    "        \"active\": True,\n",
    "    },\n",
    "    {\n",
    "        \"color\": \"FFDE00\",\n",
    "        \"window\": {\"start\": 0, \"end\": 240},\n",
    "        \"label\": \"CD45RA\",\n",
    "        \"active\": True,\n",
    "    },\n",
    "    {\n",
    "        \"color\": \"FFDE00\",\n",
    "        \"window\": {\"start\": 0, \"end\": 240},\n",
    "        \"label\": \"CD117\",\n",
    "        \"active\": True,\n",
    "    },\n",
    "    {\n",
    "        \"color\": \"FFDE00\",\n",
    "        \"window\": {\"start\": 0, \"end\": 240},\n",
    "        \"label\": \"FOXC1\",\n",
    "        \"active\": True,\n",
    "    },\n",
    "    {\n",
    "        \"color\": \"FFDE00\",\n",
    "        \"window\": {\"start\": 0, \"end\": 240},\n",
    "        \"label\": \"CD45\",\n",
    "        \"active\": True,\n",
    "    },\n",
    "    {\n",
    "        \"color\": \"FFDE00\",\n",
    "        \"window\": {\"start\": 0, \"end\": 240},\n",
    "        \"label\": \"CD61\",\n",
    "        \"active\": True,\n",
    "    },\n",
    "    {\n",
    "        \"color\": \"FFDE00\",\n",
    "        \"window\": {\"start\": 0, \"end\": 240},\n",
    "        \"label\": \"CD8\",\n",
    "        \"active\": True,\n",
    "    },\n",
    "    {\n",
    "        \"color\": \"FFDE00\",\n",
    "        \"window\": {\"start\": 0, \"end\": 240},\n",
    "        \"label\": \"CD11C\",\n",
    "        \"active\": True,\n",
    "    },\n",
    "    {\n",
    "        \"color\": \"FFDE00\",\n",
    "        \"window\": {\"start\": 0, \"end\": 240},\n",
    "        \"label\": \"CD49F\",\n",
    "        \"active\": True,\n",
    "    },\n",
    "    {\n",
    "        \"color\": \"FFDE00\",\n",
    "        \"window\": {\"start\": 0, \"end\": 240},\n",
    "        \"label\": \"VECAD\",\n",
    "        \"active\": True,\n",
    "    },\n",
    "    {\n",
    "        \"color\": \"FFDE00\",\n",
    "        \"window\": {\"start\": 0, \"end\": 240},\n",
    "        \"label\": \"ADIPOQ\",\n",
    "        \"active\": True,\n",
    "    },\n",
    "    {\n",
    "        \"color\": \"FFDE00\",\n",
    "        \"window\": {\"start\": 0, \"end\": 240},\n",
    "        \"label\": \"CD15\",\n",
    "        \"active\": True,\n",
    "    },\n",
    "    {\n",
    "        \"color\": \"FFDE00\",\n",
    "        \"window\": {\"start\": 0, \"end\": 240},\n",
    "        \"label\": \"CD123\",\n",
    "        \"active\": True,\n",
    "    },\n",
    "    {\n",
    "        \"color\": \"FFDE00\",\n",
    "        \"window\": {\"start\": 0, \"end\": 240},\n",
    "        \"label\": \"CD14\",\n",
    "        \"active\": True,\n",
    "    },\n",
    "    {\n",
    "        \"color\": \"FFDE00\",\n",
    "        \"window\": {\"start\": 0, \"end\": 240},\n",
    "        \"label\": \"CD138\",\n",
    "        \"active\": True,\n",
    "    },\n",
    "    {\n",
    "        \"color\": \"FFDE00\",\n",
    "        \"window\": {\"start\": 0, \"end\": 240},\n",
    "        \"label\": \"PLP1\",\n",
    "        \"active\": True,\n",
    "    },\n",
    "    {\n",
    "        \"color\": \"FFDE00\",\n",
    "        \"window\": {\"start\": 0, \"end\": 240},\n",
    "        \"label\": \"HLA-DR\",\n",
    "        \"active\": True,\n",
    "    },\n",
    "    {\n",
    "        \"color\": \"FFDE00\",\n",
    "        \"window\": {\"start\": 0, \"end\": 240},\n",
    "        \"label\": \"CD11B\",\n",
    "        \"active\": True,\n",
    "    },\n",
    "    {\n",
    "        \"color\": \"FFDE00\",\n",
    "        \"window\": {\"start\": 0, \"end\": 240},\n",
    "        \"label\": \"CD34\",\n",
    "        \"active\": True,\n",
    "    },\n",
    "    {\n",
    "        \"color\": \"FFDE00\",\n",
    "        \"window\": {\"start\": 0, \"end\": 240},\n",
    "        \"label\": \"CD10\",\n",
    "        \"active\": True,\n",
    "    },\n",
    "    {\n",
    "        \"color\": \"FFDE00\",\n",
    "        \"window\": {\"start\": 0, \"end\": 240},\n",
    "        \"label\": \"CD79A\",\n",
    "        \"active\": True,\n",
    "    },\n",
    "    {\n",
    "        \"color\": \"FFDE00\",\n",
    "        \"window\": {\"start\": 0, \"end\": 240},\n",
    "        \"label\": \"PAX5\",\n",
    "        \"active\": True,\n",
    "    },\n",
    "    {\n",
    "        \"color\": \"FFDE00\",\n",
    "        \"window\": {\"start\": 0, \"end\": 240},\n",
    "        \"label\": \"TGFB1\",\n",
    "        \"active\": True,\n",
    "    },\n",
    "    {\n",
    "        \"color\": \"FFDE00\",\n",
    "        \"window\": {\"start\": 0, \"end\": 240},\n",
    "        \"label\": \"MastCellTryptase\",\n",
    "        \"active\": True,\n",
    "    },\n",
    "    {\n",
    "        \"color\": \"FFDE00\",\n",
    "        \"window\": {\"start\": 0, \"end\": 240},\n",
    "        \"label\": \"VCAM1\",\n",
    "        \"active\": True,\n",
    "    },\n",
    "    {\n",
    "        \"color\": \"FFDE00\",\n",
    "        \"window\": {\"start\": 0, \"end\": 240},\n",
    "        \"label\": \"CD146\",\n",
    "        \"active\": True,\n",
    "    },\n",
    "    {\n",
    "        \"color\": \"FFDE00\",\n",
    "        \"window\": {\"start\": 0, \"end\": 240},\n",
    "        \"label\": \"Ki67\",\n",
    "        \"active\": True,\n",
    "    },\n",
    "    {\n",
    "        \"color\": \"FFDE00\",\n",
    "        \"window\": {\"start\": 0, \"end\": 240},\n",
    "        \"label\": \"CD3e\",\n",
    "        \"active\": True,\n",
    "    },\n",
    "    {\n",
    "        \"color\": \"FFDE00\",\n",
    "        \"window\": {\"start\": 0, \"end\": 240},\n",
    "        \"label\": \"CD33\",\n",
    "        \"active\": True,\n",
    "    },\n",
    "    {\n",
    "        \"color\": \"FFDE00\",\n",
    "        \"window\": {\"start\": 0, \"end\": 240},\n",
    "        \"label\": \"GATA1\",\n",
    "        \"active\": True,\n",
    "    },\n",
    "    {\n",
    "        \"color\": \"FFDE00\",\n",
    "        \"window\": {\"start\": 0, \"end\": 240},\n",
    "        \"label\": \"CD56\",\n",
    "        \"active\": True,\n",
    "    },\n",
    "    {\n",
    "        \"color\": \"FFDE00\",\n",
    "        \"window\": {\"start\": 0, \"end\": 240},\n",
    "        \"label\": \"CXCL12\",\n",
    "        \"active\": True,\n",
    "    },\n",
    "    {\n",
    "        \"color\": \"FFDE00\",\n",
    "        \"window\": {\"start\": 0, \"end\": 240},\n",
    "        \"label\": \"NAKATPASE\",\n",
    "        \"active\": True,\n",
    "    },\n",
    "    {\n",
    "        \"color\": \"FFDE00\",\n",
    "        \"window\": {\"start\": 0, \"end\": 240},\n",
    "        \"label\": \"BCL2\",\n",
    "        \"active\": True,\n",
    "    },\n",
    "    {\n",
    "        \"color\": \"FFDE00\",\n",
    "        \"window\": {\"start\": 0, \"end\": 240},\n",
    "        \"label\": \"GYPC\",\n",
    "        \"active\": True,\n",
    "    },\n",
    "    {\n",
    "        \"color\": \"FFDE00\",\n",
    "        \"window\": {\"start\": 0, \"end\": 240},\n",
    "        \"label\": \"HIF1A\",\n",
    "        \"active\": True,\n",
    "    },\n",
    "    {\n",
    "        \"color\": \"FFDE00\",\n",
    "        \"window\": {\"start\": 0, \"end\": 240},\n",
    "        \"label\": \"MPO\",\n",
    "        \"active\": True,\n",
    "    },\n",
    "    {\n",
    "        \"color\": \"FFDE00\",\n",
    "        \"window\": {\"start\": 0, \"end\": 240},\n",
    "        \"label\": \"OXPHOS\",\n",
    "        \"active\": True,\n",
    "    },\n",
    "    {\n",
    "        \"color\": \"FFDE00\",\n",
    "        \"window\": {\"start\": 0, \"end\": 240},\n",
    "        \"label\": \"CD38\",\n",
    "        \"active\": True,\n",
    "    },\n",
    "    {\n",
    "        \"color\": \"FFDE00\",\n",
    "        \"window\": {\"start\": 0, \"end\": 240},\n",
    "        \"label\": \"CD141\",\n",
    "        \"active\": True,\n",
    "    },\n",
    "    {\n",
    "        \"color\": \"FFDE00\",\n",
    "        \"window\": {\"start\": 0, \"end\": 240},\n",
    "        \"label\": \"BCAT\",\n",
    "        \"active\": True,\n",
    "    },\n",
    "    {\n",
    "        \"color\": \"FFDE00\",\n",
    "        \"window\": {\"start\": 0, \"end\": 240},\n",
    "        \"label\": \"PDPN\",\n",
    "        \"active\": True,\n",
    "    },\n",
    "    {\n",
    "        \"color\": \"FFDE00\",\n",
    "        \"window\": {\"start\": 0, \"end\": 240},\n",
    "        \"label\": \"CD163\",\n",
    "        \"active\": True,\n",
    "    },\n",
    "    {\n",
    "        \"color\": \"FFDE00\",\n",
    "        \"window\": {\"start\": 0, \"end\": 240},\n",
    "        \"label\": \"CXCR4\",\n",
    "        \"active\": True,\n",
    "    }]\n",
    "}"
   ]
  },
  {
   "cell_type": "code",
   "execution_count": 28,
   "id": "1400599d-b854-4542-ac0f-3f63b4c2c2b1",
   "metadata": {},
   "outputs": [],
   "source": [
    "write_image(image=img_dat, \n",
    "            group=root, \n",
    "            axes=\"tczyx\",\n",
    "            storage_options=dict(chunks=(1, size_xy, size_xy)))"
   ]
  },
  {
   "cell_type": "markdown",
   "id": "3a6a656f-523e-4bc1-b3ee-12788079660f",
   "metadata": {},
   "source": [
    "## Preparing the adata\n",
    "\n",
    "Something strange happened to the expression values. Need to use the \"SCTC-VP-15/outs/simple_h5ad/...\" values.\n",
    "\n",
    "Looks like most of the cells are still there. \n",
    "**! need to check for regions were tiles were discarded !**\n",
    "- maybe match on coordinates?\n",
    "\n",
    "Motif names:\n",
    "neighborhood_names_zeroindex <- c('0' = \"HSC / Mature Myeloid\",\n",
    "                                  \"1\" = \"Erythroid/Myeloid\",\n",
    "                                  \"2\" = \"PC/Arteriolar\",\n",
    "                                  \"3\" = \"Erythroid\",\n",
    "                                  \"4\" = \"Arteriolar\",\n",
    "                                  \"5\" = \"Erythroid\",\n",
    "                                  \"6\" = \"Lymphoid\",\n",
    "                                  \"7\" = \"Erythroid/Myeloid/Lymphoid\",\n",
    "                                  \"8\" = \"Early Myeloid / Endosteal\",\n",
    "                                  \"9\" = \"Myeloid/Lymphoid\",\n",
    "                                  \"10\" = \"HSPC/Intermediate Myeloid\",\n",
    "                                  \"11\" = \"Erythroid/Myeloid/Lymphoid\",\n",
    "                                  \"12\" = \"Erythroid/Myeloid\",\n",
    "                                  \"13\" = \"Early Myeloid / Arteriolar\",\n",
    "                                  \"14\" = \"Peri-Arterolar Lymphoid\")\n"
   ]
  },
  {
   "cell_type": "markdown",
   "id": "7553d12d-5f98-4b16-8cd9-aa448447c975",
   "metadata": {},
   "source": [
    "### as zarr"
   ]
  },
  {
   "cell_type": "code",
   "execution_count": 18,
   "id": "08d91329-c733-44b0-ae85-c6de3820e6d7",
   "metadata": {},
   "outputs": [
    {
     "data": {
      "text/plain": [
       "AnnData object with n_obs × n_vars = 234104 × 49\n",
       "    obs: 'orig.ident', 'nCount_CODEX', 'nFeature_CODEX', 'CellID', 'Size', 'x.coord', 'y.coord', 'DAPI', 'ADIPOQ', 'Ki67', 'CD56', 'NAKATPASE', 'RowSum', 'CODEX_snn_res.1.5', 'seurat_clusters', 'integrated_snn_res.0.5', 'cluster_anno_l1', 'cluster_anno_l2', 'cluster_anno_coarse'\n",
       "    var: 'features', 'CODEX_features'\n",
       "    obsm: 'X_UMAP_dim30', 'X_pca', 'X_umap'\n",
       "    varm: 'PCs'\n",
       "    layers: 'CODEX'"
      ]
     },
     "execution_count": 18,
     "metadata": {},
     "output_type": "execute_result"
    }
   ],
   "source": [
    "adata = ad.read_h5ad(\"../data/H10/H10_processed.h5ad\")\n",
    "adata"
   ]
  },
  {
   "cell_type": "code",
   "execution_count": 4,
   "id": "9d107ea3-4cbc-407c-b57d-7aecaf79e194",
   "metadata": {
    "scrolled": true
   },
   "outputs": [
    {
     "data": {
      "text/html": [
       "<div>\n",
       "<style scoped>\n",
       "    .dataframe tbody tr th:only-of-type {\n",
       "        vertical-align: middle;\n",
       "    }\n",
       "\n",
       "    .dataframe tbody tr th {\n",
       "        vertical-align: top;\n",
       "    }\n",
       "\n",
       "    .dataframe thead th {\n",
       "        text-align: right;\n",
       "    }\n",
       "</style>\n",
       "<table border=\"1\" class=\"dataframe\">\n",
       "  <thead>\n",
       "    <tr style=\"text-align: right;\">\n",
       "      <th></th>\n",
       "      <th>orig.ident</th>\n",
       "      <th>nCount_CODEX</th>\n",
       "      <th>nFeature_CODEX</th>\n",
       "      <th>CellID</th>\n",
       "      <th>Size</th>\n",
       "      <th>x.coord</th>\n",
       "      <th>y.coord</th>\n",
       "      <th>DAPI</th>\n",
       "      <th>ADIPOQ</th>\n",
       "      <th>Ki67</th>\n",
       "      <th>CD56</th>\n",
       "      <th>NAKATPASE</th>\n",
       "      <th>RowSum</th>\n",
       "      <th>CODEX_snn_res.1.5</th>\n",
       "      <th>seurat_clusters</th>\n",
       "      <th>integrated_snn_res.0.5</th>\n",
       "      <th>cluster_anno_l1</th>\n",
       "      <th>cluster_anno_l2</th>\n",
       "      <th>cluster_anno_coarse</th>\n",
       "    </tr>\n",
       "  </thead>\n",
       "  <tbody>\n",
       "    <tr>\n",
       "      <th>2</th>\n",
       "      <td>SB67_NBM27_H10_CODEX_Mesmer</td>\n",
       "      <td>439.691057</td>\n",
       "      <td>49</td>\n",
       "      <td>2.0</td>\n",
       "      <td>123.0</td>\n",
       "      <td>13004.252033</td>\n",
       "      <td>104.243902</td>\n",
       "      <td>40.430894</td>\n",
       "      <td>21.211382</td>\n",
       "      <td>18.707317</td>\n",
       "      <td>21.666667</td>\n",
       "      <td>20.788618</td>\n",
       "      <td>522.065041</td>\n",
       "      <td>14</td>\n",
       "      <td>4</td>\n",
       "      <td>18</td>\n",
       "      <td>Erythroid</td>\n",
       "      <td>Artifact</td>\n",
       "      <td>Artifact</td>\n",
       "    </tr>\n",
       "    <tr>\n",
       "      <th>4</th>\n",
       "      <td>SB67_NBM27_H10_CODEX_Mesmer</td>\n",
       "      <td>621.033058</td>\n",
       "      <td>49</td>\n",
       "      <td>4.0</td>\n",
       "      <td>121.0</td>\n",
       "      <td>12980.925620</td>\n",
       "      <td>136.413223</td>\n",
       "      <td>24.685950</td>\n",
       "      <td>15.603306</td>\n",
       "      <td>2.132231</td>\n",
       "      <td>16.983471</td>\n",
       "      <td>18.975207</td>\n",
       "      <td>674.727273</td>\n",
       "      <td>14</td>\n",
       "      <td>4</td>\n",
       "      <td>18</td>\n",
       "      <td>Erythroid</td>\n",
       "      <td>Artifact</td>\n",
       "      <td>Artifact</td>\n",
       "    </tr>\n",
       "    <tr>\n",
       "      <th>5</th>\n",
       "      <td>SB67_NBM27_H10_CODEX_Mesmer</td>\n",
       "      <td>753.661972</td>\n",
       "      <td>49</td>\n",
       "      <td>5.0</td>\n",
       "      <td>71.0</td>\n",
       "      <td>12935.408451</td>\n",
       "      <td>153.746479</td>\n",
       "      <td>20.971831</td>\n",
       "      <td>12.225352</td>\n",
       "      <td>3.197183</td>\n",
       "      <td>10.323944</td>\n",
       "      <td>23.845070</td>\n",
       "      <td>803.253521</td>\n",
       "      <td>17</td>\n",
       "      <td>14</td>\n",
       "      <td>6</td>\n",
       "      <td>Megakaryocyte</td>\n",
       "      <td>Undetermined</td>\n",
       "      <td>Artifact</td>\n",
       "    </tr>\n",
       "    <tr>\n",
       "      <th>7</th>\n",
       "      <td>SB67_NBM27_H10_CODEX_Mesmer</td>\n",
       "      <td>500.769231</td>\n",
       "      <td>49</td>\n",
       "      <td>7.0</td>\n",
       "      <td>65.0</td>\n",
       "      <td>12875.461538</td>\n",
       "      <td>170.600000</td>\n",
       "      <td>27.000000</td>\n",
       "      <td>15.600000</td>\n",
       "      <td>2.507692</td>\n",
       "      <td>14.415385</td>\n",
       "      <td>18.276923</td>\n",
       "      <td>551.569231</td>\n",
       "      <td>15</td>\n",
       "      <td>4</td>\n",
       "      <td>18</td>\n",
       "      <td>Erythroid</td>\n",
       "      <td>Early Myeloid Progenitor</td>\n",
       "      <td>Myeloid</td>\n",
       "    </tr>\n",
       "    <tr>\n",
       "      <th>8</th>\n",
       "      <td>SB67_NBM27_H10_CODEX_Mesmer</td>\n",
       "      <td>518.670588</td>\n",
       "      <td>49</td>\n",
       "      <td>8.0</td>\n",
       "      <td>170.0</td>\n",
       "      <td>12922.470588</td>\n",
       "      <td>173.664706</td>\n",
       "      <td>36.611765</td>\n",
       "      <td>17.223529</td>\n",
       "      <td>1.964706</td>\n",
       "      <td>17.229412</td>\n",
       "      <td>18.976471</td>\n",
       "      <td>574.064706</td>\n",
       "      <td>14</td>\n",
       "      <td>4</td>\n",
       "      <td>18</td>\n",
       "      <td>Erythroid</td>\n",
       "      <td>Artifact</td>\n",
       "      <td>Artifact</td>\n",
       "    </tr>\n",
       "  </tbody>\n",
       "</table>\n",
       "</div>"
      ],
      "text/plain": [
       "                    orig.ident  nCount_CODEX  nFeature_CODEX  CellID   Size  \\\n",
       "2  SB67_NBM27_H10_CODEX_Mesmer    439.691057              49     2.0  123.0   \n",
       "4  SB67_NBM27_H10_CODEX_Mesmer    621.033058              49     4.0  121.0   \n",
       "5  SB67_NBM27_H10_CODEX_Mesmer    753.661972              49     5.0   71.0   \n",
       "7  SB67_NBM27_H10_CODEX_Mesmer    500.769231              49     7.0   65.0   \n",
       "8  SB67_NBM27_H10_CODEX_Mesmer    518.670588              49     8.0  170.0   \n",
       "\n",
       "        x.coord     y.coord       DAPI     ADIPOQ       Ki67       CD56  \\\n",
       "2  13004.252033  104.243902  40.430894  21.211382  18.707317  21.666667   \n",
       "4  12980.925620  136.413223  24.685950  15.603306   2.132231  16.983471   \n",
       "5  12935.408451  153.746479  20.971831  12.225352   3.197183  10.323944   \n",
       "7  12875.461538  170.600000  27.000000  15.600000   2.507692  14.415385   \n",
       "8  12922.470588  173.664706  36.611765  17.223529   1.964706  17.229412   \n",
       "\n",
       "   NAKATPASE      RowSum CODEX_snn_res.1.5  seurat_clusters  \\\n",
       "2  20.788618  522.065041                14                4   \n",
       "4  18.975207  674.727273                14                4   \n",
       "5  23.845070  803.253521                17               14   \n",
       "7  18.276923  551.569231                15                4   \n",
       "8  18.976471  574.064706                14                4   \n",
       "\n",
       "   integrated_snn_res.0.5 cluster_anno_l1           cluster_anno_l2  \\\n",
       "2                      18       Erythroid                  Artifact   \n",
       "4                      18       Erythroid                  Artifact   \n",
       "5                       6   Megakaryocyte              Undetermined   \n",
       "7                      18       Erythroid  Early Myeloid Progenitor   \n",
       "8                      18       Erythroid                  Artifact   \n",
       "\n",
       "  cluster_anno_coarse  \n",
       "2            Artifact  \n",
       "4            Artifact  \n",
       "5            Artifact  \n",
       "7             Myeloid  \n",
       "8            Artifact  "
      ]
     },
     "execution_count": 4,
     "metadata": {},
     "output_type": "execute_result"
    }
   ],
   "source": [
    "adata.obs.head()"
   ]
  },
  {
   "cell_type": "code",
   "execution_count": 24,
   "id": "638754c9-9cd6-420f-8aae-902c430380bf",
   "metadata": {},
   "outputs": [],
   "source": [
    "adata.obsm['centroids'] = adata.obs.loc[:,['x.coord','y.coord']].to_numpy()"
   ]
  },
  {
   "cell_type": "code",
   "execution_count": 6,
   "id": "6c0d8833-e214-4485-b4b2-bc5321a633a9",
   "metadata": {},
   "outputs": [
    {
     "data": {
      "text/html": [
       "<div>\n",
       "<style scoped>\n",
       "    .dataframe tbody tr th:only-of-type {\n",
       "        vertical-align: middle;\n",
       "    }\n",
       "\n",
       "    .dataframe tbody tr th {\n",
       "        vertical-align: top;\n",
       "    }\n",
       "\n",
       "    .dataframe thead th {\n",
       "        text-align: right;\n",
       "    }\n",
       "</style>\n",
       "<table border=\"1\" class=\"dataframe\">\n",
       "  <thead>\n",
       "    <tr style=\"text-align: right;\">\n",
       "      <th></th>\n",
       "      <th>Unnamed: 0.1</th>\n",
       "      <th>Unnamed: 0</th>\n",
       "      <th>orig.ident</th>\n",
       "      <th>nCount_CODEX</th>\n",
       "      <th>nFeature_CODEX</th>\n",
       "      <th>Size</th>\n",
       "      <th>x.coord</th>\n",
       "      <th>y.coord</th>\n",
       "      <th>DAPI</th>\n",
       "      <th>Metadata_CD19</th>\n",
       "      <th>...</th>\n",
       "      <th>Plasma Cells</th>\n",
       "      <th>SEC</th>\n",
       "      <th>SPINK2+ HSPC</th>\n",
       "      <th>Schwann Cells</th>\n",
       "      <th>THY1+ MSC</th>\n",
       "      <th>VSMC</th>\n",
       "      <th>pDC</th>\n",
       "      <th>neighborhood10</th>\n",
       "      <th>neighborhood20</th>\n",
       "      <th>neighborhood5</th>\n",
       "    </tr>\n",
       "    <tr>\n",
       "      <th>CellID</th>\n",
       "      <th></th>\n",
       "      <th></th>\n",
       "      <th></th>\n",
       "      <th></th>\n",
       "      <th></th>\n",
       "      <th></th>\n",
       "      <th></th>\n",
       "      <th></th>\n",
       "      <th></th>\n",
       "      <th></th>\n",
       "      <th></th>\n",
       "      <th></th>\n",
       "      <th></th>\n",
       "      <th></th>\n",
       "      <th></th>\n",
       "      <th></th>\n",
       "      <th></th>\n",
       "      <th></th>\n",
       "      <th></th>\n",
       "      <th></th>\n",
       "      <th></th>\n",
       "    </tr>\n",
       "  </thead>\n",
       "  <tbody>\n",
       "    <tr>\n",
       "      <th>7</th>\n",
       "      <td>0</td>\n",
       "      <td>4_1</td>\n",
       "      <td>SB67_NBM27_H10_CODEX_Mesmer</td>\n",
       "      <td>500.769231</td>\n",
       "      <td>49</td>\n",
       "      <td>65</td>\n",
       "      <td>12875.461538</td>\n",
       "      <td>170.600000</td>\n",
       "      <td>27.000000</td>\n",
       "      <td>7.030769</td>\n",
       "      <td>...</td>\n",
       "      <td>0</td>\n",
       "      <td>0</td>\n",
       "      <td>0</td>\n",
       "      <td>0</td>\n",
       "      <td>0</td>\n",
       "      <td>0</td>\n",
       "      <td>0</td>\n",
       "      <td>0</td>\n",
       "      <td>9</td>\n",
       "      <td>9</td>\n",
       "    </tr>\n",
       "    <tr>\n",
       "      <th>9</th>\n",
       "      <td>1</td>\n",
       "      <td>6_1</td>\n",
       "      <td>SB67_NBM27_H10_CODEX_Mesmer</td>\n",
       "      <td>663.769231</td>\n",
       "      <td>49</td>\n",
       "      <td>195</td>\n",
       "      <td>12903.358974</td>\n",
       "      <td>174.400000</td>\n",
       "      <td>51.179487</td>\n",
       "      <td>14.471795</td>\n",
       "      <td>...</td>\n",
       "      <td>0</td>\n",
       "      <td>0</td>\n",
       "      <td>0</td>\n",
       "      <td>0</td>\n",
       "      <td>0</td>\n",
       "      <td>0</td>\n",
       "      <td>0</td>\n",
       "      <td>0</td>\n",
       "      <td>9</td>\n",
       "      <td>9</td>\n",
       "    </tr>\n",
       "    <tr>\n",
       "      <th>11</th>\n",
       "      <td>2</td>\n",
       "      <td>8_1</td>\n",
       "      <td>SB67_NBM27_H10_CODEX_Mesmer</td>\n",
       "      <td>518.621908</td>\n",
       "      <td>49</td>\n",
       "      <td>283</td>\n",
       "      <td>13101.738516</td>\n",
       "      <td>186.279152</td>\n",
       "      <td>41.427562</td>\n",
       "      <td>7.692580</td>\n",
       "      <td>...</td>\n",
       "      <td>0</td>\n",
       "      <td>0</td>\n",
       "      <td>0</td>\n",
       "      <td>0</td>\n",
       "      <td>0</td>\n",
       "      <td>0</td>\n",
       "      <td>0</td>\n",
       "      <td>8</td>\n",
       "      <td>13</td>\n",
       "      <td>13</td>\n",
       "    </tr>\n",
       "    <tr>\n",
       "      <th>14</th>\n",
       "      <td>3</td>\n",
       "      <td>11_1</td>\n",
       "      <td>SB67_NBM27_H10_CODEX_Mesmer</td>\n",
       "      <td>489.111765</td>\n",
       "      <td>49</td>\n",
       "      <td>170</td>\n",
       "      <td>10516.105882</td>\n",
       "      <td>197.447059</td>\n",
       "      <td>30.400000</td>\n",
       "      <td>9.117647</td>\n",
       "      <td>...</td>\n",
       "      <td>0</td>\n",
       "      <td>0</td>\n",
       "      <td>0</td>\n",
       "      <td>0</td>\n",
       "      <td>0</td>\n",
       "      <td>0</td>\n",
       "      <td>0</td>\n",
       "      <td>10</td>\n",
       "      <td>2</td>\n",
       "      <td>2</td>\n",
       "    </tr>\n",
       "    <tr>\n",
       "      <th>15</th>\n",
       "      <td>4</td>\n",
       "      <td>12_1</td>\n",
       "      <td>SB67_NBM27_H10_CODEX_Mesmer</td>\n",
       "      <td>408.734375</td>\n",
       "      <td>49</td>\n",
       "      <td>128</td>\n",
       "      <td>12844.046875</td>\n",
       "      <td>198.773438</td>\n",
       "      <td>29.382812</td>\n",
       "      <td>8.164062</td>\n",
       "      <td>...</td>\n",
       "      <td>0</td>\n",
       "      <td>0</td>\n",
       "      <td>0</td>\n",
       "      <td>0</td>\n",
       "      <td>0</td>\n",
       "      <td>0</td>\n",
       "      <td>0</td>\n",
       "      <td>0</td>\n",
       "      <td>0</td>\n",
       "      <td>0</td>\n",
       "    </tr>\n",
       "  </tbody>\n",
       "</table>\n",
       "<p>5 rows × 106 columns</p>\n",
       "</div>"
      ],
      "text/plain": [
       "        Unnamed: 0.1 Unnamed: 0                   orig.ident  nCount_CODEX  \\\n",
       "CellID                                                                       \n",
       "7                  0        4_1  SB67_NBM27_H10_CODEX_Mesmer    500.769231   \n",
       "9                  1        6_1  SB67_NBM27_H10_CODEX_Mesmer    663.769231   \n",
       "11                 2        8_1  SB67_NBM27_H10_CODEX_Mesmer    518.621908   \n",
       "14                 3       11_1  SB67_NBM27_H10_CODEX_Mesmer    489.111765   \n",
       "15                 4       12_1  SB67_NBM27_H10_CODEX_Mesmer    408.734375   \n",
       "\n",
       "        nFeature_CODEX  Size       x.coord     y.coord       DAPI  \\\n",
       "CellID                                                              \n",
       "7                   49    65  12875.461538  170.600000  27.000000   \n",
       "9                   49   195  12903.358974  174.400000  51.179487   \n",
       "11                  49   283  13101.738516  186.279152  41.427562   \n",
       "14                  49   170  10516.105882  197.447059  30.400000   \n",
       "15                  49   128  12844.046875  198.773438  29.382812   \n",
       "\n",
       "        Metadata_CD19  ...  Plasma Cells  SEC  SPINK2+ HSPC  Schwann Cells  \\\n",
       "CellID                 ...                                                   \n",
       "7            7.030769  ...             0    0             0              0   \n",
       "9           14.471795  ...             0    0             0              0   \n",
       "11           7.692580  ...             0    0             0              0   \n",
       "14           9.117647  ...             0    0             0              0   \n",
       "15           8.164062  ...             0    0             0              0   \n",
       "\n",
       "        THY1+ MSC  VSMC  pDC  neighborhood10  neighborhood20  neighborhood5  \n",
       "CellID                                                                       \n",
       "7               0     0    0               0               9              9  \n",
       "9               0     0    0               0               9              9  \n",
       "11              0     0    0               8              13             13  \n",
       "14              0     0    0              10               2              2  \n",
       "15              0     0    0               0               0              0  \n",
       "\n",
       "[5 rows x 106 columns]"
      ]
     },
     "execution_count": 6,
     "metadata": {},
     "output_type": "execute_result"
    }
   ],
   "source": [
    "motif_anno = pd.read_csv(\"/mnt/isilon/tan_lab_imaging/Analysis/bandyopads/NBM_CODEX_Atlas/Combined_Analysis/Seurat/Neighborhood_Analysis_Step4/output/neighborhood.csv\")\n",
    "keep = motif_anno['orig.ident'].apply(lambda x: \"H10\" in x)\n",
    "motif_anno = motif_anno.loc[keep,:]\n",
    "motif_anno['CellID'] = motif_anno['CellID'].astype(int).astype(str)\n",
    "motif_anno.set_index(keys=\"CellID\", inplace=True)\n",
    "motif_anno.head()"
   ]
  },
  {
   "cell_type": "code",
   "execution_count": 9,
   "id": "7ed973a6-a495-4df4-9cca-1824a892aa86",
   "metadata": {},
   "outputs": [],
   "source": [
    "adata.obs = adata.obs.merge(motif_anno['neighborhood10'], how='left', left_index=True, right_index=True)"
   ]
  },
  {
   "cell_type": "code",
   "execution_count": 26,
   "id": "74716415-9e7e-42d4-9924-82a8d787765f",
   "metadata": {},
   "outputs": [
    {
     "name": "stdout",
     "output_type": "stream",
     "text": [
      "<class 'pandas.core.frame.DataFrame'>\n",
      "Index: 234104 entries, 2 to 238920\n",
      "Data columns (total 20 columns):\n",
      " #   Column                  Non-Null Count   Dtype  \n",
      "---  ------                  --------------   -----  \n",
      " 0   orig.ident              234104 non-null  object \n",
      " 1   nCount_CODEX            234104 non-null  float64\n",
      " 2   nFeature_CODEX          234104 non-null  int32  \n",
      " 3   CellID                  234104 non-null  float64\n",
      " 4   Size                    234104 non-null  float64\n",
      " 5   x.coord                 234104 non-null  float64\n",
      " 6   y.coord                 234104 non-null  float64\n",
      " 7   DAPI                    234104 non-null  float64\n",
      " 8   ADIPOQ                  234104 non-null  float64\n",
      " 9   Ki67                    234104 non-null  float64\n",
      " 10  CD56                    234104 non-null  float64\n",
      " 11  NAKATPASE               234104 non-null  float64\n",
      " 12  RowSum                  234104 non-null  float64\n",
      " 13  CODEX_snn_res.1.5       234104 non-null  object \n",
      " 14  seurat_clusters         234104 non-null  int32  \n",
      " 15  integrated_snn_res.0.5  234104 non-null  int32  \n",
      " 16  cluster_anno_l1         234104 non-null  object \n",
      " 17  cluster_anno_l2         234104 non-null  object \n",
      " 18  cluster_anno_coarse     234104 non-null  object \n",
      " 19  neighborhood10          209309 non-null  float64\n",
      "dtypes: float64(12), int32(3), object(5)\n",
      "memory usage: 42.9+ MB\n"
     ]
    }
   ],
   "source": [
    "adata.obs.info(verbose=True)"
   ]
  },
  {
   "cell_type": "code",
   "execution_count": 29,
   "id": "7c705b49-030a-4c49-a99a-0492d385c74b",
   "metadata": {},
   "outputs": [],
   "source": [
    "zarr_filepath = \"../data/H10/H10_adata.zarr\""
   ]
  },
  {
   "cell_type": "code",
   "execution_count": 14,
   "id": "5261a7a8-bccf-45e9-aa4e-73b9280adbfb",
   "metadata": {},
   "outputs": [],
   "source": [
    "adata_out = optimize_adata(\n",
    "    adata,\n",
    "    obs_cols=[\"cluster_anno_l2\",\"neighborhood10\"],\n",
    "    obsm_keys=[\"X_UMAP_dim30\", \"centroids\"],\n",
    "    optimize_X=True,\n",
    ")\n",
    "adata_out.write_zarr(zarr_filepath, chunks=[adata_out.shape[0], VAR_CHUNK_SIZE])"
   ]
  },
  {
   "cell_type": "code",
   "execution_count": 24,
   "id": "f9829cbf-828e-4891-b13c-83a5dcd95397",
   "metadata": {},
   "outputs": [
    {
     "data": {
      "text/plain": [
       "AnnData object with n_obs × n_vars = 234104 × 49\n",
       "    obs: 'cluster_anno_l2', 'neighborhood10'\n",
       "    var: 'features', 'CODEX_features'\n",
       "    obsm: 'X_UMAP_dim30', 'centroids'\n",
       "    varm: 'PCs'\n",
       "    layers: 'CODEX'"
      ]
     },
     "execution_count": 24,
     "metadata": {},
     "output_type": "execute_result"
    }
   ],
   "source": [
    "adata = ad.read_zarr(zarr_filepath)\n",
    "adata"
   ]
  },
  {
   "cell_type": "code",
   "execution_count": 6,
   "id": "e40ab0d7-ffdc-49e5-bdcb-151749e35dfe",
   "metadata": {},
   "outputs": [
    {
     "data": {
      "text/plain": [
       "array([nan,  0.,  8., 10., 13.,  4.,  1.,  9., 12., 11.,  3.,  7.,  2.,\n",
       "        5.,  6., 14.])"
      ]
     },
     "execution_count": 6,
     "metadata": {},
     "output_type": "execute_result"
    }
   ],
   "source": [
    "adata.obs.neighborhood10.unique()"
   ]
  },
  {
   "cell_type": "code",
   "execution_count": 25,
   "id": "29f77006-fca1-4975-be72-10fb408cf7b4",
   "metadata": {},
   "outputs": [],
   "source": [
    "motif_names = {0: \"HSC / Mature Myeloid\",\n",
    "               1 : \"Erythroid/Myeloid\",\n",
    "               2 : \"PC/Arteriolar\",\n",
    "               3 : \"Erythroid\",\n",
    "               4 : \"Arteriolar\",\n",
    "               5 : \"Erythroid\",\n",
    "               6 : \"Lymphoid\",\n",
    "               7 : \"Erythroid/Myeloid/Lymphoid\",\n",
    "               8 : \"Early Myeloid / Endosteal\",\n",
    "               9 : \"Myeloid/Lymphoid\",\n",
    "               10 : \"HSPC/Intermediate Myeloid\",\n",
    "               11 : \"Erythroid/Myeloid/Lymphoid\",\n",
    "               12 : \"Erythroid/Myeloid\",\n",
    "               13 : \"Early Myeloid / Arteriolar\",\n",
    "               14 : \"Peri-Arterolar Lymphoid\"}"
   ]
  },
  {
   "cell_type": "code",
   "execution_count": 26,
   "id": "050a1c4d-e63e-4f92-a096-895a6d748cd7",
   "metadata": {},
   "outputs": [],
   "source": [
    "adata.obs['motif_names'] = \"unknown\"\n",
    "adata.obs.loc[~adata.obs.neighborhood10.isna(),\"motif_names\"] = adata.obs.neighborhood10[~adata.obs.neighborhood10.isna()].apply(lambda x: motif_names[x])"
   ]
  },
  {
   "cell_type": "code",
   "execution_count": 27,
   "id": "29b5171a-e50b-4474-8bd0-56e9f2c16a07",
   "metadata": {},
   "outputs": [
    {
     "data": {
      "text/plain": [
       "Erythroid/Myeloid             43648\n",
       "Erythroid/Myeloid/Lymphoid    37117\n",
       "HSC / Mature Myeloid          33538\n",
       "Erythroid                     33007\n",
       "unknown                       24795\n",
       "Myeloid/Lymphoid              12986\n",
       "HSPC/Intermediate Myeloid     11183\n",
       "Early Myeloid / Arteriolar    10193\n",
       "Lymphoid                       9533\n",
       "Early Myeloid / Endosteal      8425\n",
       "PC/Arteriolar                  4747\n",
       "Arteriolar                     2766\n",
       "Peri-Arterolar Lymphoid        2166\n",
       "Name: motif_names, dtype: int64"
      ]
     },
     "execution_count": 27,
     "metadata": {},
     "output_type": "execute_result"
    }
   ],
   "source": [
    "adata.obs[\"motif_names\"].value_counts()"
   ]
  },
  {
   "cell_type": "code",
   "execution_count": 30,
   "id": "26a866ff-7cb6-4d7e-b10c-b0e296a426a9",
   "metadata": {},
   "outputs": [],
   "source": [
    "adata_out = optimize_adata(\n",
    "    adata,\n",
    "    obs_cols=[\"cluster_anno_l2\",\"neighborhood10\",\"motif_names\"],\n",
    "    obsm_keys=[\"X_UMAP_dim30\", \"centroids\"],\n",
    "    optimize_X=True,\n",
    ")\n",
    "adata_out.write_zarr(zarr_filepath, chunks=[adata_out.shape[0], VAR_CHUNK_SIZE])"
   ]
  },
  {
   "cell_type": "markdown",
   "id": "433401ea-a83d-4ba5-8019-619b304bd12d",
   "metadata": {
    "jp-MarkdownHeadingCollapsed": true
   },
   "source": [
    "### as CSVs"
   ]
  },
  {
   "cell_type": "code",
   "execution_count": 28,
   "id": "3ea6dd37-26e3-4f20-838f-f3164a64de0d",
   "metadata": {
    "collapsed": true,
    "jupyter": {
     "outputs_hidden": true,
     "source_hidden": true
    },
    "tags": []
   },
   "outputs": [
    {
     "name": "stderr",
     "output_type": "stream",
     "text": [
      "/tmp/ipykernel_93097/2192715062.py:3: SettingWithCopyWarning: \n",
      "A value is trying to be set on a copy of a slice from a DataFrame.\n",
      "Try using .loc[row_indexer,col_indexer] = value instead\n",
      "\n",
      "See the caveats in the documentation: https://pandas.pydata.org/pandas-docs/stable/user_guide/indexing.html#returning-a-view-versus-a-copy\n",
      "  cells_df[\"Unnamed: 0\"] = cells_df[\"Unnamed: 0\"].astype(int)\n"
     ]
    },
    {
     "data": {
      "text/html": [
       "<div>\n",
       "<style scoped>\n",
       "    .dataframe tbody tr th:only-of-type {\n",
       "        vertical-align: middle;\n",
       "    }\n",
       "\n",
       "    .dataframe tbody tr th {\n",
       "        vertical-align: top;\n",
       "    }\n",
       "\n",
       "    .dataframe thead th {\n",
       "        text-align: right;\n",
       "    }\n",
       "</style>\n",
       "<table border=\"1\" class=\"dataframe\">\n",
       "  <thead>\n",
       "    <tr style=\"text-align: right;\">\n",
       "      <th></th>\n",
       "      <th>Absolute.Y</th>\n",
       "      <th>Absolute.X</th>\n",
       "      <th>new_pheno</th>\n",
       "      <th>motif</th>\n",
       "    </tr>\n",
       "    <tr>\n",
       "      <th>cell_id</th>\n",
       "      <th></th>\n",
       "      <th></th>\n",
       "      <th></th>\n",
       "      <th></th>\n",
       "    </tr>\n",
       "  </thead>\n",
       "  <tbody>\n",
       "    <tr>\n",
       "      <th>41524</th>\n",
       "      <td>1833.046512</td>\n",
       "      <td>1941.697674</td>\n",
       "      <td>B_Cell</td>\n",
       "      <td>Motif_1</td>\n",
       "    </tr>\n",
       "    <tr>\n",
       "      <th>41525</th>\n",
       "      <td>1712.140741</td>\n",
       "      <td>1583.829630</td>\n",
       "      <td>B_Cell</td>\n",
       "      <td>Motif_1</td>\n",
       "    </tr>\n",
       "    <tr>\n",
       "      <th>41526</th>\n",
       "      <td>1859.259542</td>\n",
       "      <td>2002.175573</td>\n",
       "      <td>B_Cell</td>\n",
       "      <td>Motif_1</td>\n",
       "    </tr>\n",
       "    <tr>\n",
       "      <th>41527</th>\n",
       "      <td>1631.783784</td>\n",
       "      <td>1839.081081</td>\n",
       "      <td>B_Cell</td>\n",
       "      <td>Motif_1</td>\n",
       "    </tr>\n",
       "    <tr>\n",
       "      <th>41530</th>\n",
       "      <td>1581.342105</td>\n",
       "      <td>1512.394737</td>\n",
       "      <td>B_Cell</td>\n",
       "      <td>Motif_1</td>\n",
       "    </tr>\n",
       "  </tbody>\n",
       "</table>\n",
       "</div>"
      ],
      "text/plain": [
       "          Absolute.Y   Absolute.X new_pheno    motif\n",
       "cell_id                                             \n",
       "41524    1833.046512  1941.697674    B_Cell  Motif_1\n",
       "41525    1712.140741  1583.829630    B_Cell  Motif_1\n",
       "41526    1859.259542  2002.175573    B_Cell  Motif_1\n",
       "41527    1631.783784  1839.081081    B_Cell  Motif_1\n",
       "41530    1581.342105  1512.394737    B_Cell  Motif_1"
      ]
     },
     "execution_count": 28,
     "metadata": {},
     "output_type": "execute_result"
    }
   ],
   "source": [
    "# making a csv output\n",
    "cells_df = adata_small.obs[[\"Unnamed: 0\", \"Absolute.Y\", \"Absolute.X\", \"new_pheno\", \"motif\"]]\n",
    "cells_df[\"Unnamed: 0\"] = cells_df[\"Unnamed: 0\"].astype(int)\n",
    "cells_df.set_index(\"Unnamed: 0\", inplace=True)\n",
    "cells_df.index = cells_df.index.rename(\"cell_id\")\n",
    "cells_df.tail()"
   ]
  },
  {
   "cell_type": "code",
   "execution_count": 29,
   "id": "28b51b7e-fed6-4ac1-a411-5c123de185ed",
   "metadata": {
    "collapsed": true,
    "jupyter": {
     "outputs_hidden": true,
     "source_hidden": true
    }
   },
   "outputs": [
    {
     "name": "stderr",
     "output_type": "stream",
     "text": [
      "/tmp/ipykernel_93097/3242105401.py:1: SettingWithCopyWarning: \n",
      "A value is trying to be set on a copy of a slice from a DataFrame.\n",
      "Try using .loc[row_indexer,col_indexer] = value instead\n",
      "\n",
      "See the caveats in the documentation: https://pandas.pydata.org/pandas-docs/stable/user_guide/indexing.html#returning-a-view-versus-a-copy\n",
      "  cells_df['UMAP_1'] = adata_small.obsm['X_umap'][:,0]\n",
      "/tmp/ipykernel_93097/3242105401.py:2: SettingWithCopyWarning: \n",
      "A value is trying to be set on a copy of a slice from a DataFrame.\n",
      "Try using .loc[row_indexer,col_indexer] = value instead\n",
      "\n",
      "See the caveats in the documentation: https://pandas.pydata.org/pandas-docs/stable/user_guide/indexing.html#returning-a-view-versus-a-copy\n",
      "  cells_df['UMAP_2'] = adata_small.obsm['X_umap'][:,1]\n"
     ]
    }
   ],
   "source": [
    "cells_df['UMAP_1'] = adata_small.obsm['X_umap'][:,0]\n",
    "cells_df['UMAP_2'] = adata_small.obsm['X_umap'][:,1]"
   ]
  },
  {
   "cell_type": "code",
   "execution_count": 31,
   "id": "873775a6-1aff-48f8-9bb1-619aa968e283",
   "metadata": {
    "jupyter": {
     "source_hidden": true
    }
   },
   "outputs": [],
   "source": [
    "matrix_df = pd.DataFrame(\n",
    "    index=cells_df.index.values.tolist(),\n",
    "    columns=adata_small.var.index.tolist(),\n",
    "    data=adata_small.raw.X\n",
    ")\n",
    "matrix_df.index = matrix_df.index.rename(\"cell_id\")"
   ]
  },
  {
   "cell_type": "code",
   "execution_count": 32,
   "id": "95a48856-10fe-47c7-a889-8a90dcd0ff25",
   "metadata": {
    "jupyter": {
     "source_hidden": true
    }
   },
   "outputs": [],
   "source": [
    "cells_df.to_csv(\"../data/test/converted/test_cells.csv\", index=True)\n",
    "matrix_df.to_csv(\"../data/test/converted/test_matrix.csv\", index=True)"
   ]
  },
  {
   "cell_type": "code",
   "execution_count": 106,
   "id": "dde72bf1-0757-41cc-8662-7dda14a45935",
   "metadata": {
    "collapsed": true,
    "jupyter": {
     "outputs_hidden": true
    },
    "tags": []
   },
   "outputs": [
    {
     "name": "stderr",
     "output_type": "stream",
     "text": [
      "  0%|          | 262/233658 [01:30<22:18:51,  2.91it/s]\n"
     ]
    },
    {
     "ename": "KeyboardInterrupt",
     "evalue": "",
     "output_type": "error",
     "traceback": [
      "\u001b[0;31m---------------------------------------------------------------------------\u001b[0m",
      "\u001b[0;31mKeyboardInterrupt\u001b[0m                         Traceback (most recent call last)",
      "Cell \u001b[0;32mIn[106], line 5\u001b[0m\n\u001b[1;32m      3\u001b[0m \u001b[38;5;28;01mif\u001b[39;00m i \u001b[38;5;241m==\u001b[39m \u001b[38;5;241m0\u001b[39m:\n\u001b[1;32m      4\u001b[0m     \u001b[38;5;28;01mcontinue\u001b[39;00m\n\u001b[0;32m----> 5\u001b[0m poly \u001b[38;5;241m=\u001b[39m \u001b[43mMask\u001b[49m\u001b[43m(\u001b[49m\u001b[43mmasks_erode\u001b[49m\u001b[38;5;241;43m==\u001b[39;49m\u001b[43mi\u001b[49m\u001b[43m)\u001b[49m\u001b[38;5;241;43m.\u001b[39;49m\u001b[43mpolygons\u001b[49m\u001b[43m(\u001b[49m\u001b[43m)\u001b[49m\n\u001b[1;32m      6\u001b[0m segments[\u001b[38;5;28mstr\u001b[39m(i)] \u001b[38;5;241m=\u001b[39m poly\u001b[38;5;241m.\u001b[39mpoints[\u001b[38;5;241m0\u001b[39m]\u001b[38;5;241m.\u001b[39mtolist() \u001b[38;5;66;03m# should hopefully only be 1 cell...\u001b[39;00m\n",
      "File \u001b[0;32m/mnt/isilon/cscb/software/anaconda3/envs/vitessce/lib/python3.8/site-packages/imantics/annotation.py:804\u001b[0m, in \u001b[0;36mMask.polygons\u001b[0;34m(self)\u001b[0m\n\u001b[1;32m    800\u001b[0m \u001b[38;5;28;01mif\u001b[39;00m \u001b[38;5;129;01mnot\u001b[39;00m \u001b[38;5;28mself\u001b[39m\u001b[38;5;241m.\u001b[39m_c_polygons:\n\u001b[1;32m    801\u001b[0m \n\u001b[1;32m    802\u001b[0m     \u001b[38;5;66;03m# Generate polygons from mask\u001b[39;00m\n\u001b[1;32m    803\u001b[0m     mask \u001b[38;5;241m=\u001b[39m \u001b[38;5;28mself\u001b[39m\u001b[38;5;241m.\u001b[39marray\u001b[38;5;241m.\u001b[39mastype(np\u001b[38;5;241m.\u001b[39muint8)\n\u001b[0;32m--> 804\u001b[0m     mask \u001b[38;5;241m=\u001b[39m \u001b[43mcv2\u001b[49m\u001b[38;5;241;43m.\u001b[39;49m\u001b[43mcopyMakeBorder\u001b[49m\u001b[43m(\u001b[49m\u001b[43mmask\u001b[49m\u001b[43m,\u001b[49m\u001b[43m \u001b[49m\u001b[38;5;241;43m1\u001b[39;49m\u001b[43m,\u001b[49m\u001b[43m \u001b[49m\u001b[38;5;241;43m1\u001b[39;49m\u001b[43m,\u001b[49m\u001b[43m \u001b[49m\u001b[38;5;241;43m1\u001b[39;49m\u001b[43m,\u001b[49m\u001b[43m \u001b[49m\u001b[38;5;241;43m1\u001b[39;49m\u001b[43m,\u001b[49m\u001b[43m \u001b[49m\u001b[43mcv2\u001b[49m\u001b[38;5;241;43m.\u001b[39;49m\u001b[43mBORDER_CONSTANT\u001b[49m\u001b[43m,\u001b[49m\u001b[43m \u001b[49m\u001b[43mvalue\u001b[49m\u001b[38;5;241;43m=\u001b[39;49m\u001b[38;5;241;43m0\u001b[39;49m\u001b[43m)\u001b[49m\n\u001b[1;32m    805\u001b[0m     polygons \u001b[38;5;241m=\u001b[39m cv2\u001b[38;5;241m.\u001b[39mfindContours(mask, cv2\u001b[38;5;241m.\u001b[39mRETR_LIST, cv2\u001b[38;5;241m.\u001b[39mCHAIN_APPROX_SIMPLE, offset\u001b[38;5;241m=\u001b[39m(\u001b[38;5;241m-\u001b[39m\u001b[38;5;241m1\u001b[39m, \u001b[38;5;241m-\u001b[39m\u001b[38;5;241m1\u001b[39m))\n\u001b[1;32m    806\u001b[0m     polygons \u001b[38;5;241m=\u001b[39m polygons[\u001b[38;5;241m0\u001b[39m] \u001b[38;5;28;01mif\u001b[39;00m \u001b[38;5;28mlen\u001b[39m(polygons) \u001b[38;5;241m==\u001b[39m \u001b[38;5;241m2\u001b[39m \u001b[38;5;28;01melse\u001b[39;00m polygons[\u001b[38;5;241m1\u001b[39m]\n",
      "\u001b[0;31mKeyboardInterrupt\u001b[0m: "
     ]
    }
   ],
   "source": [
    "# ##This will take forever...\n",
    "# segments = {}\n",
    "# for i in tqdm(np.unique(masks_erode)):\n",
    "#     if i == 0:\n",
    "#         continue\n",
    "#     poly = Mask(masks_erode==i).polygons()\n",
    "#     segments[str(i)] = poly.points[0].tolist() # should hopefully only be 1 cell..."
   ]
  },
  {
   "cell_type": "markdown",
   "id": "75152415-f270-4bda-9088-c29f7bc2c783",
   "metadata": {},
   "source": [
    "## Making JSON mask"
   ]
  },
  {
   "cell_type": "code",
   "execution_count": 4,
   "id": "8f7aada4-67c5-4101-9ac2-ac3f32326693",
   "metadata": {},
   "outputs": [],
   "source": [
    "from tqdm import tqdm\n",
    "from scipy import signal, ndimage\n",
    "from imantics import Polygons, Mask\n",
    "from skimage.draw import disk\n",
    "import json\n",
    "import scipy as sci\n",
    "from itertools import compress"
   ]
  },
  {
   "cell_type": "code",
   "execution_count": 7,
   "id": "5f233b74-1152-4a97-91c8-60274a1433ce",
   "metadata": {},
   "outputs": [],
   "source": [
    "def erode_mask(masks):\n",
    "    masks_erode = masks.copy()\n",
    "    for i in tqdm(np.arange(1, masks.shape[0]-1)):\n",
    "        for j in np.arange(1, masks.shape[1]-1):\n",
    "            if (masks[i,j-1] != masks[i,j+1]) and (min((masks[i,j-1], masks[i,j+1])) != 0):\n",
    "                masks_erode[i,j] = 0\n",
    "            if (masks[i-1,j] != masks[i+1,j]) and (min((masks[i-1,j], masks[i+1,j])) != 0):\n",
    "                masks_erode[i,j] = 0\n",
    "    # # drop small cells\n",
    "    # unique, counts = np.unique(masks_erode, return_counts=True)\n",
    "    # c =np.asarray((unique, counts)).T\n",
    "    # drop_index = c[np.where(c[:,1] < 50),0]\n",
    "    # masks_erode[np.isin(masks_erode, drop_index[0])] = 0\n",
    "    return masks_erode"
   ]
  },
  {
   "cell_type": "code",
   "execution_count": 6,
   "id": "086a5696-1a6d-45d4-a036-00418137d867",
   "metadata": {},
   "outputs": [],
   "source": [
    "mask = tff.TiffFile(\"/mnt/isilon/tan_lab_imaging/FUSION/NBM/NBM27_H10_CITRATE_REIMAGE/H10/Scan1/mesmer/Scan1_segmentation_cell.tif\")"
   ]
  },
  {
   "cell_type": "code",
   "execution_count": 9,
   "id": "4c929c6f-ef24-4328-bb22-047d74a49021",
   "metadata": {},
   "outputs": [],
   "source": [
    "mask_dat = mask.pages[0].asarray()"
   ]
  },
  {
   "cell_type": "code",
   "execution_count": 10,
   "id": "96b10e5e-2ee9-466c-a952-0d9e2cea8cb3",
   "metadata": {},
   "outputs": [
    {
     "name": "stderr",
     "output_type": "stream",
     "text": [
      "100%|██████████| 24478/24478 [06:29<00:00, 62.81it/s]\n"
     ]
    }
   ],
   "source": [
    "masks_erode = erode_mask(mask_dat)\n",
    "masks_erode = ndimage.binary_erosion(masks_erode, structure=np.ones((3,3)), iterations=1).astype(int) * masks_erode"
   ]
  },
  {
   "cell_type": "code",
   "execution_count": 19,
   "id": "c10aac76-e0d5-4ff1-a343-55e4c26d7f3a",
   "metadata": {},
   "outputs": [
    {
     "data": {
      "text/plain": [
       "233739"
      ]
     },
     "execution_count": 19,
     "metadata": {},
     "output_type": "execute_result"
    }
   ],
   "source": [
    "# drop cells not in adata\n",
    "good_cells = adata.obs.CellID.astype(int)\n",
    "masks_keep = masks_erode.copy()\n",
    "masks_keep[np.isin(masks_keep, good_cells, invert=True)] = 0\n",
    "len(np.unique(masks_keep))"
   ]
  },
  {
   "cell_type": "code",
   "execution_count": null,
   "id": "03839202-f501-4515-8489-228ec55edfbc",
   "metadata": {},
   "outputs": [],
   "source": [
    "#########################################################################\n",
    "#!!!! for some reason there are ~10k cells missing...how could that be??\n",
    "#########################################################################"
   ]
  },
  {
   "cell_type": "code",
   "execution_count": 20,
   "id": "27f762cf-206e-4917-9fa0-002e6536d3c4",
   "metadata": {},
   "outputs": [],
   "source": [
    "mask_binary = masks_keep > 0\n",
    "mask_binary = mask_binary * 1"
   ]
  },
  {
   "cell_type": "code",
   "execution_count": 33,
   "id": "a6c35572-1b15-479a-8e5f-3775bea0dc93",
   "metadata": {
    "tags": []
   },
   "outputs": [
    {
     "data": {
      "text/plain": [
       "<matplotlib.image.AxesImage at 0x7fff9fc31430>"
      ]
     },
     "execution_count": 33,
     "metadata": {},
     "output_type": "execute_result"
    },
    {
     "data": {
      "image/png": "[encoded data removed]",
      "text/plain": [
       "<Figure size 960x640 with 1 Axes>"
      ]
     },
     "metadata": {},
     "output_type": "display_data"
    }
   ],
   "source": [
    "plt.figure(figsize=(12, 8), dpi=80)\n",
    "# plt.imshow(dat >= global_thresh, cmap='gray')\n",
    "plt.imshow(masks_erode > 0, cmap='gray')"
   ]
  },
  {
   "cell_type": "code",
   "execution_count": 21,
   "id": "c997cec8-c806-45a7-b45b-2df7514e8e66",
   "metadata": {},
   "outputs": [],
   "source": [
    "poly = Mask(mask_binary).polygons()"
   ]
  },
  {
   "cell_type": "code",
   "execution_count": 34,
   "id": "21f665a1-76a2-41b4-8cc4-9ab3f334fa79",
   "metadata": {},
   "outputs": [
    {
     "data": {
      "text/plain": [
       "224682"
      ]
     },
     "execution_count": 34,
     "metadata": {},
     "output_type": "execute_result"
    }
   ],
   "source": [
    "len(poly.points)"
   ]
  },
  {
   "cell_type": "code",
   "execution_count": 22,
   "id": "d7ea8d50-408a-4d1d-ab08-4746879fa0fc",
   "metadata": {},
   "outputs": [
    {
     "data": {
      "text/plain": [
       "(233818, 2)"
      ]
     },
     "execution_count": 22,
     "metadata": {},
     "output_type": "execute_result"
    }
   ],
   "source": [
    "# make an array of segment centroids\n",
    "seg_centroids = list(map(lambda x: np.apply_along_axis(np.mean,0,x), poly.points))\n",
    "seg_centroids = np.vstack(seg_centroids)\n",
    "seg_centroids.shape"
   ]
  },
  {
   "cell_type": "code",
   "execution_count": 25,
   "id": "3664c9b8-7f00-4c79-ac1a-f846a789b972",
   "metadata": {},
   "outputs": [
    {
     "data": {
      "text/plain": [
       "233738"
      ]
     },
     "execution_count": 25,
     "metadata": {},
     "output_type": "execute_result"
    }
   ],
   "source": [
    "# now matching up the centroids, query index should be second column of result\n",
    "ref_tree = sci.spatial.cKDTree(adata.obsm['centroids'])\n",
    "knn_res = ref_tree.query(seg_centroids, k=1)\n",
    "seg_centroids.shape[0] - len(np.unique(knn_res[1]))\n",
    "# shoot...looks like 67 cells got assigned to more than one segment\n",
    "# for simplicity, going to drop \"duplicated\" segments\n",
    "s = pd.Series(knn_res[1])\n",
    "keep_seg = ~s.duplicated()\n",
    "s = s[keep_seg]\n",
    "seg_polygons = list(compress(poly.points,keep_seg.tolist()))\n",
    "len(seg_polygons)"
   ]
  },
  {
   "cell_type": "code",
   "execution_count": 31,
   "id": "218ebac6-0d96-46bd-8bb9-076c8b6c823f",
   "metadata": {},
   "outputs": [
    {
     "data": {
      "text/plain": [
       "230456"
      ]
     },
     "execution_count": 31,
     "metadata": {},
     "output_type": "execute_result"
    }
   ],
   "source": [
    "s.iloc[3642]"
   ]
  },
  {
   "cell_type": "code",
   "execution_count": 32,
   "id": "d5b92260-d6da-41d5-aed6-4dd460bfca1f",
   "metadata": {},
   "outputs": [
    {
     "name": "stderr",
     "output_type": "stream",
     "text": [
      "100%|██████████| 233738/233738 [00:05<00:00, 44447.15it/s]\n"
     ]
    }
   ],
   "source": [
    "# assuming adata is prepared\n",
    "segments = {}\n",
    "for i in tqdm(range(len(seg_polygons))):\n",
    "    cell_poly = seg_polygons[i].tolist()\n",
    "    # coord = np.flip(coord)\n",
    "    cell_i = s.iloc[i]\n",
    "    segments[adata.obs.index.values[cell_i]] = cell_poly\n",
    "    "
   ]
  },
  {
   "cell_type": "code",
   "execution_count": 33,
   "id": "64a735b2-10be-4fe0-a8b6-c23c7d76917c",
   "metadata": {},
   "outputs": [],
   "source": [
    "with open(\"../data/H10/segmentations.json\", \"w\") as f:\n",
    "    json.dump(segments, f)"
   ]
  },
  {
   "cell_type": "markdown",
   "id": "4837ddc0-ff92-44c4-95d3-bc3477721183",
   "metadata": {},
   "source": [
    "## Preparing the bone images"
   ]
  },
  {
   "cell_type": "code",
   "execution_count": 34,
   "id": "5df7685b-88e8-4900-aa7a-5b5d8fe50698",
   "metadata": {},
   "outputs": [],
   "source": [
    "import PIL\n",
    "from PIL import Image"
   ]
  },
  {
   "cell_type": "code",
   "execution_count": 35,
   "id": "9f051b48-9d57-46e5-9237-107b0646acc8",
   "metadata": {},
   "outputs": [],
   "source": [
    "PIL.Image.MAX_IMAGE_PIXELS = 400000000"
   ]
  },
  {
   "cell_type": "code",
   "execution_count": 36,
   "id": "505d5440-4e25-4068-b187-d496560859cd",
   "metadata": {},
   "outputs": [],
   "source": [
    "ext_img = Image.open(\"../data/H10/NBM27_H10_Scan1.qptiff - resolution_bone_annotation-labels (2).png\")\n",
    "ext_img = np.asarray(ext_img)"
   ]
  },
  {
   "cell_type": "code",
   "execution_count": 75,
   "id": "c4fd0fa4-5078-4f5e-a346-b7d870d2f13f",
   "metadata": {},
   "outputs": [
    {
     "data": {
      "text/plain": [
       "(24480, 16320)"
      ]
     },
     "execution_count": 75,
     "metadata": {},
     "output_type": "execute_result"
    }
   ],
   "source": [
    "ext_img.shape"
   ]
  },
  {
   "cell_type": "code",
   "execution_count": 37,
   "id": "a660d0f9-81fe-47d2-8842-af41a20a0ec3",
   "metadata": {},
   "outputs": [],
   "source": [
    "# Bone image\n",
    "subresolutions = 1\n",
    "pixelsize = 0.29  # micrometer, just using what was in example, probably wrong\n",
    "with tff.TiffWriter('../data/H10/bone.ome.tif', ome=True) as tif:\n",
    "    metadata={\n",
    "        'axes': 'YX',\n",
    "    }\n",
    "    tif.write(\n",
    "        ext_img,\n",
    "        # subifds=subresolutions,\n",
    "        metadata=metadata,\n",
    "    )"
   ]
  },
  {
   "cell_type": "code",
   "execution_count": 38,
   "id": "eba44fe0-1d0b-4e09-a36b-4e2c86693cb1",
   "metadata": {},
   "outputs": [],
   "source": [
    "ext_img = Image.open(\"../data/H10/H10 macrophage-labels.png\")\n",
    "ext_img = np.asarray(ext_img)"
   ]
  },
  {
   "cell_type": "code",
   "execution_count": 39,
   "id": "42714f36-852b-4245-b445-8d4208692f2f",
   "metadata": {},
   "outputs": [
    {
     "data": {
      "text/plain": [
       "(24480, 16320)"
      ]
     },
     "execution_count": 39,
     "metadata": {},
     "output_type": "execute_result"
    }
   ],
   "source": [
    "ext_img.shape"
   ]
  },
  {
   "cell_type": "code",
   "execution_count": 40,
   "id": "4e7133c6-ab0f-4572-b836-a41b0b51facf",
   "metadata": {},
   "outputs": [],
   "source": [
    "# Macrophage image\n",
    "subresolutions = 1\n",
    "pixelsize = 0.29  # micrometer, just using what was in example, probably wrong\n",
    "with tff.TiffWriter('../data/H10/macrophage.ome.tif', ome=True) as tif:\n",
    "    metadata={\n",
    "        'axes': 'YX',\n",
    "    }\n",
    "    tif.write(\n",
    "        ext_img,\n",
    "        # subifds=subresolutions,\n",
    "        metadata=metadata,\n",
    "    )"
   ]
  },
  {
   "cell_type": "markdown",
   "id": "12b92dc1-94ad-462c-9948-c7c3ee1f48c7",
   "metadata": {},
   "source": [
    "## Testing the widget"
   ]
  },
  {
   "cell_type": "code",
   "execution_count": 7,
   "id": "829d0945-2169-45ed-8421-0db37846f01c",
   "metadata": {},
   "outputs": [],
   "source": [
    "# Option with ome-zarr\n",
    "vc = VitessceConfig(schema_version=\"1.0.15\", name='CODEX', description='Testing small slice of CODEX image')\n",
    "dataset = vc.add_dataset(name='R1reg1').add_object(\n",
    "    OmeZarrWrapper(img_path=\"/mnt/isilon/cscb/codex/pillaiv/SCTC-VP-15/vitessce-gh-pages/data/test/converted/codex_img.ome.zarr\")\n",
    ")\n",
    "spatial = vc.add_view(cm.SPATIAL, dataset=dataset)\n",
    "status = vc.add_view(cm.STATUS, dataset=dataset)\n",
    "lc = vc.add_view(cm.LAYER_CONTROLLER, dataset=dataset).set_props(disableChannelsIfRgbDetected=True)\n",
    "vc.layout(spatial | lc / status);"
   ]
  },
  {
   "cell_type": "code",
   "execution_count": 44,
   "id": "f26395f1-3450-449a-ac3d-49ac02dc343f",
   "metadata": {
    "tags": []
   },
   "outputs": [],
   "source": [
    "# Option with ome.tiff\n",
    "vc = VitessceConfig(schema_version=\"1.0.15\", name='CODEX', description='Testing small slice of CODEX image')\n",
    "dataset = vc.add_dataset(name='H10').add_object(\n",
    "    MultiImageWrapper(\n",
    "        image_wrappers=[\n",
    "            # OmeZarrWrapper(img_path='../data/H10/H10_ngff_image.zarr/', name='Image'),\n",
    "            OmeTiffWrapper(img_path='../data/H10/bone.ome.tif', name='Bone', is_bitmask=True),\n",
    "            OmeTiffWrapper(img_path='../data/H10/macrophage.ome.tif', name='Macrophage'),\n",
    "        ]\n",
    " )\n",
    ")\n",
    "# dataset = vc.add_dataset(name='H10').add_object(\n",
    "#     OmeZarrWrapper(img_path='../data/H10/H10_ngff_image.zarr/', name='Image')\n",
    "#  )\n",
    "\n",
    "dataset = dataset.add_object(\n",
    "    OmeZarrWrapper(img_path='../data/H10/H10_ngff_image.zarr/', name='Image')\n",
    " )\n",
    "\n",
    "# making a UMAP\n",
    "# dataset = vc.add_dataset(name=\"H10\").add_object(AnnDataWrapper(\n",
    "#     adata_path=zarr_filepath,\n",
    "#     obs_set_paths=[\"obs/cluster_anno_l2\", \"obs/neighborhood10\"],\n",
    "#     obs_set_names=[\"phenotype\", \"motif\"],\n",
    "#     obs_embedding_paths=[\"obsm/X_UMAP_dim30\", \"obsm/centroids\"],\n",
    "#     obs_embedding_names=[\"UMAP\", \"centroids\"],\n",
    "#     obs_feature_matrix_path=\"X\",\n",
    "#     # obs_locations_path=[\"obsm/centroids\"]\n",
    "# ))\n",
    "dataset = dataset.add_object(AnnDataWrapper(\n",
    "    adata_path=zarr_filepath,\n",
    "    obs_set_paths=[\"obs/cluster_anno_l2\", \"obs/neighborhood10\"],\n",
    "    obs_set_names=[\"phenotype\", \"motif\"],\n",
    "    obs_embedding_paths=[\"obsm/X_UMAP_dim30\", \"obsm/centroids\"],\n",
    "    obs_embedding_names=[\"UMAP\", \"centroids\"],\n",
    "    obs_feature_matrix_path=\"X\",\n",
    "    # obs_locations_path=[\"obsm/centroids\"]\n",
    "))\n",
    "\n",
    "spatial = vc.add_view(cm.SPATIAL, dataset=dataset)\n",
    "status = vc.add_view(cm.STATUS, dataset=dataset)\n",
    "lc = vc.add_view(cm.LAYER_CONTROLLER, dataset=dataset)\n",
    "umap = vc.add_view(cm.SCATTERPLOT, dataset=dataset, mapping=\"UMAP\")\n",
    "cell_sets = vc.add_view(cm.OBS_SETS, dataset=dataset)\n",
    "genes = vc.add_view(cm.FEATURE_LIST, dataset=dataset)\n",
    "vc.layout(spatial | umap | lc / cell_sets);"
   ]
  },
  {
   "cell_type": "code",
   "execution_count": 5,
   "id": "893d3ee7-0260-4d61-8155-3b60f8f502d7",
   "metadata": {},
   "outputs": [
    {
     "data": {
      "text/plain": [
       "<vitessce.config.VitessceConfig at 0x7f32ac1b4a90>"
      ]
     },
     "execution_count": 5,
     "metadata": {},
     "output_type": "execute_result"
    }
   ],
   "source": []
  },
  {
   "cell_type": "code",
   "execution_count": 4,
   "id": "27a2763d-de0e-48fb-a1e0-0b15ef35bbdd",
   "metadata": {},
   "outputs": [],
   "source": [
    "# # Option with ome.tiff and json segmentations\n",
    "# dataset = vc.add_dataset(name='R1reg1').add_object(\n",
    "#     MultiImageWrapper(\n",
    "#         image_wrappers=[\n",
    "#             OmeTiffWrapper(img_path='/mnt/isilon/cscb/codex/pillaiv/SCTC-VP-15/vitessce-gh-pages/data/test/converted/codex.ome.tif', name='Image'),\n",
    "#             OmeTiffWrapper(img_path='/mnt/isilon/cscb/codex/pillaiv/SCTC-VP-15/vitessce-gh-pages/data/test/converted/masks.ome.tif', name='Mask', is_bitmask=True),\n",
    "#         ]\n",
    "#  )\n",
    "# )\n",
    "\n",
    "\n",
    "# spatial = vc.add_view(cm.SPATIAL, dataset=dataset)\n",
    "# status = vc.add_view(cm.STATUS, dataset=dataset)\n",
    "# lc = vc.add_view(cm.LAYER_CONTROLLER, dataset=dataset).set_props(disableChannelsIfRgbDetected=True)\n",
    "# vc.layout(spatial | lc / status);"
   ]
  },
  {
   "cell_type": "code",
   "execution_count": 45,
   "id": "ed9b1a53-5f6f-4fef-9ead-79a27513b808",
   "metadata": {},
   "outputs": [
    {
     "name": "stdout",
     "output_type": "stream",
     "text": [
      "VitessceWidget(config={'version': '1.0.15', 'name': 'CODEX', 'description': 'Testing small slice of CODEX image', 'datasets': [{'uid': 'A', 'name': 'H10', 'files': [{'fileType': 'raster.json', 'options': {'schemaVersion': '0.0.2', 'usePhysicalSizeScaling': False, 'images': [{'name': 'Bone', 'type': 'ome-tiff', 'url': 'http://localhost:8001/A/0/4a387c3e-4b71-46f1-81e4-1d8097c23e8a', 'metadata': {'omeTiffOffsetsUrl': 'http://localhost:8001/A/0/817528d9-25d5-4556-a0e1-221d19865570', 'isBitmask': True}}, {'name': 'Macrophage', 'type': 'ome-tiff', 'url': 'http://localhost:8001/A/0/6aaf4bee-55d7-409b-b162-409e41b2e355', 'metadata': {'omeTiffOffsetsUrl': 'http://localhost:8001/A/0/5211fecc-2eb2-46b5-a32a-685ce36b1a06', 'isBitmask': False}}], 'renderLayers': ['Bone', 'Macrophage']}}, {'fileType': 'image.ome-zarr', 'url': 'http://localhost:8001/A/1/b57ce95a-a80e-4428-8301-b8c34b213875'}, {'fileType': 'anndata.zarr', 'url': 'http://localhost:8001/A/2/7d14e0fe-27c0-4e14-ba0f-813c1cd8354a', 'options': {'obsEmbedding': [{'path': 'obsm/X_UMAP_dim30', 'dims': [0, 1], 'embeddingType': 'UMAP'}, {'path': 'obsm/centroids', 'dims': [0, 1], 'embeddingType': 'centroids'}], 'obsSets': [{'name': 'phenotype', 'path': 'obs/cluster_anno_l2'}, {'name': 'motif', 'path': 'obs/neighborhood10'}], 'obsFeatureMatrix': {'path': 'X'}}}]}], 'coordinationSpace': {'dataset': {'A': 'A'}, 'embeddingType': {'A': 'UMAP'}}, 'layout': [{'component': 'spatial', 'coordinationScopes': {'dataset': 'A'}, 'x': 0.0, 'y': 0, 'w': 3.0, 'h': 12}, {'component': 'status', 'coordinationScopes': {'dataset': 'A'}, 'x': 0, 'y': 0, 'w': 1, 'h': 1}, {'component': 'layerController', 'coordinationScopes': {'dataset': 'A'}, 'x': 6.0, 'y': 0.0, 'w': 6.0, 'h': 6.0}, {'component': 'scatterplot', 'coordinationScopes': {'dataset': 'A', 'embeddingType': 'A'}, 'x': 3.0, 'y': 0, 'w': 3.0, 'h': 12}, {'component': 'obsSets', 'coordinationScopes': {'dataset': 'A'}, 'x': 6.0, 'y': 6.0, 'w': 6.0, 'h': 6.0}, {'component': 'featureList', 'coordinationScopes': {'dataset': 'A'}, 'x': 0, 'y': 0, 'w': 1, 'h': 1}], 'initStrategy': 'auto'}, uid='07ab')\n"
     ]
    }
   ],
   "source": [
    "vw = vc.widget()\n",
    "print(vw)"
   ]
  },
  {
   "cell_type": "code",
   "execution_count": 92,
   "id": "64e93473-17db-4d10-89a4-c813aeee2d3d",
   "metadata": {
    "collapsed": true,
    "jupyter": {
     "outputs_hidden": true
    },
    "scrolled": true,
    "tags": []
   },
   "outputs": [
    {
     "data": {
      "text/html": [
       "\n",
       "        <div id=\"vitessce9c9c\"></div>\n",
       "\n",
       "        <script type=\"module\">\n",
       "\n",
       "            \n",
       "import * as d3 from 'https://esm.sh/d3-require@1.3.0';\n",
       "import React from 'https://esm.sh/react@18.2.0';\n",
       "import ReactDOM from 'https://esm.sh/react-dom@18.2.0';\n",
       "\n",
       "function asEsModule(component) {\n",
       "  return {\n",
       "    __esModule: true,\n",
       "    default: component,\n",
       "  };\n",
       "}\n",
       "\n",
       "const e = React.createElement;\n",
       "\n",
       "const prefersDark = window.matchMedia && window.matchMedia('(prefers-color-scheme: dark)').matches;\n",
       "\n",
       "// The jupyter server may be running through a proxy,\n",
       "// which means that the client needs to prepend the part of the URL before /proxy/8000 such as\n",
       "// https://hub.gke2.mybinder.org/user/vitessce-vitessce-python-swi31vcv/proxy/8000/A/0/cells\n",
       "function prependBaseUrl(config, proxy, hasHostName) {\n",
       "  if(!proxy || hasHostName) {\n",
       "    return config;\n",
       "  }\n",
       "  const { origin } = new URL(window.location.href);\n",
       "  let baseUrl;\n",
       "  const jupyterLabConfigEl = document.getElementById('jupyter-config-data');\n",
       "\n",
       "  if (jupyterLabConfigEl) {\n",
       "    // This is jupyter lab\n",
       "    baseUrl = JSON.parse(jupyterLabConfigEl.textContent || '').baseUrl;\n",
       "  } else {\n",
       "    // This is jupyter notebook\n",
       "    baseUrl = document.getElementsByTagName('body')[0].getAttribute('data-base-url');\n",
       "  }\n",
       "  return {\n",
       "    ...config,\n",
       "    datasets: config.datasets.map(d => ({\n",
       "      ...d,\n",
       "      files: d.files.map(f => ({\n",
       "        ...f,\n",
       "        url: `${origin}${baseUrl}${f.url}`,\n",
       "      })),\n",
       "    })),\n",
       "  };\n",
       "}\n",
       "\n",
       "export function render(view) {\n",
       "    const cssUid = view.model.get('uid');\n",
       "    const jsPackageVersion = view.model.get('js_package_version');\n",
       "    let customRequire = d3.require;\n",
       "    const customJsUrl = view.model.get('custom_js_url');\n",
       "    if(customJsUrl.length > 0) {\n",
       "        customRequire = d3.requireFrom(async () => {\n",
       "            return customJsUrl;\n",
       "        });\n",
       "    }\n",
       "\n",
       "    const aliasedRequire = customRequire.alias({\n",
       "        \"react\": React,\n",
       "        \"react-dom\": ReactDOM\n",
       "    });\n",
       "\n",
       "    const Vitessce = React.lazy(() => {\n",
       "        // Workaround for preventing side effects due to loading the Vitessce UMD bundle twice\n",
       "        // running createGenerateClassNames twice.\n",
       "        // Alternate solution should be possible in JS release v2.0.3.\n",
       "        // Reference: https://github.com/vitessce/vitessce/pull/1391\n",
       "        return aliasedRequire(`vitessce@${jsPackageVersion}`)\n",
       "            .then(vitessce => asEsModule(vitessce.Vitessce));\n",
       "    });\n",
       "\n",
       "    function VitessceWidget(props) {\n",
       "        const { model } = props;\n",
       "\n",
       "        const config = prependBaseUrl(model.get('config'), model.get('proxy'), model.get('has_host_name'));\n",
       "        const height = model.get('height');\n",
       "        const theme = model.get('theme') === 'auto' ? (prefersDark ? 'dark' : 'light') : model.get('theme');\n",
       "\n",
       "        const divRef = React.useRef();\n",
       "\n",
       "        React.useEffect(() => {\n",
       "            if(!divRef.current) {\n",
       "                return () => {};\n",
       "            }\n",
       "\n",
       "            function handleMouseEnter() {\n",
       "                const jpn = divRef.current.closest('.jp-Notebook');\n",
       "                if(jpn) {\n",
       "                    jpn.style.overflow = \"hidden\";\n",
       "                }\n",
       "            }\n",
       "            function handleMouseLeave(event) {\n",
       "                if(event.relatedTarget === null || (event.relatedTarget && event.relatedTarget.closest('.jp-Notebook')?.length)) return;\n",
       "                const jpn = divRef.current.closest('.jp-Notebook');\n",
       "                if(jpn) {\n",
       "                    jpn.style.overflow = \"auto\";\n",
       "                }\n",
       "            }\n",
       "            divRef.current.addEventListener(\"mouseenter\", handleMouseEnter);\n",
       "            divRef.current.addEventListener(\"mouseleave\", handleMouseLeave);\n",
       "\n",
       "            return () => {\n",
       "                if(divRef.current) {\n",
       "                    divRef.current.removeEventListener(\"mouseenter\", handleMouseEnter);\n",
       "                    divRef.current.removeEventListener(\"mouseleave\", handleMouseLeave);\n",
       "                }\n",
       "            };\n",
       "        }, [divRef]);\n",
       "\n",
       "        const onConfigChange = React.useCallback((config) => {\n",
       "            model.set('config', config);\n",
       "            model.save_changes();\n",
       "        }, [model]);\n",
       "\n",
       "        const vitessceProps = { height, theme, config, onConfigChange, uid: cssUid };\n",
       "\n",
       "        return e('div', { ref: divRef, style: { height: height + 'px' } },\n",
       "            e(React.Suspense, { fallback: e('div', {}, 'Loading...') },\n",
       "                e(Vitessce, vitessceProps)\n",
       "            )\n",
       "        );\n",
       "    }\n",
       "\n",
       "    ReactDOM.render(e(VitessceWidget, { model: view.model }), view.el);\n",
       "}\n",
       "\n",
       "\n",
       "            render({\n",
       "                model: {\n",
       "                    get: (key) => {\n",
       "                        const vals = {\"uid\": \"vitessce9c9c\", \"js_package_version\": \"2.0.3\", \"custom_js_url\": \"\", \"proxy\": false, \"has_host_name\": false, \"height\": 600, \"theme\": \"auto\", \"config\": {\"version\": \"1.0.15\", \"name\": \"CODEX\", \"description\": \"Testing small slice of CODEX image\", \"datasets\": [{\"uid\": \"A\", \"name\": \"H10\", \"files\": [{\"fileType\": \"anndata.zarr\", \"url\": \"http://localhost:8007/A/0/07b37db8-b3d9-4edd-83fb-e6e43521be3b\", \"options\": {\"obsEmbedding\": [{\"path\": \"obsm/X_UMAP_dim30\", \"dims\": [0, 1], \"embeddingType\": \"UMAP\"}, {\"path\": \"obsm/centroids\", \"dims\": [0, 1], \"embeddingType\": \"centroids\"}], \"obsSets\": [{\"name\": \"phenotype\", \"path\": \"obs/cluster_anno_l2\"}, {\"name\": \"motif\", \"path\": \"obs/neighborhood10\"}], \"obsFeatureMatrix\": {\"path\": \"X\"}}}]}], \"coordinationSpace\": {\"dataset\": {\"A\": \"A\"}, \"embeddingType\": {\"A\": \"UMAP\"}}, \"layout\": [{\"component\": \"scatterplot\", \"coordinationScopes\": {\"dataset\": \"A\", \"embeddingType\": \"A\"}, \"x\": 0.0, \"y\": 0, \"w\": 6.0, \"h\": 12}, {\"component\": \"obsSets\", \"coordinationScopes\": {\"dataset\": \"A\"}, \"x\": 6.0, \"y\": 6.0, \"w\": 6.0, \"h\": 6.0}, {\"component\": \"featureList\", \"coordinationScopes\": {\"dataset\": \"A\"}, \"x\": 0, \"y\": 0, \"w\": 1, \"h\": 1}], \"initStrategy\": \"auto\"}};\n",
       "                        return vals[key];\n",
       "                    },\n",
       "                    set: () => {},\n",
       "                    save_changes: () => {}\n",
       "                },\n",
       "                el: document.getElementById(\"vitessce9c9c\"),\n",
       "            });\n",
       "        </script>\n",
       "    "
      ],
      "text/plain": [
       "<IPython.core.display.HTML object>"
      ]
     },
     "metadata": {},
     "output_type": "display_data"
    }
   ],
   "source": [
    "vc.display()"
   ]
  },
  {
   "cell_type": "code",
   "execution_count": 90,
   "id": "1677a193-3700-4408-8fde-943a54b51ca3",
   "metadata": {},
   "outputs": [
    {
     "data": {
      "application/vnd.jupyter.widget-view+json": {
       "model_id": "8e4b63b016a94142a7bf810224f4e3ed",
       "version_major": 2,
       "version_minor": 0
      },
      "text/plain": [
       "VitessceWidget(config={'version': '1.0.15', 'name': 'CODEX', 'description': 'Testing small slice of CODEX imag…"
      ]
     },
     "execution_count": 90,
     "metadata": {},
     "output_type": "execute_result"
    }
   ],
   "source": [
    "vw"
   ]
  },
  {
   "cell_type": "code",
   "execution_count": 46,
   "id": "760e8d1d-b429-4bd2-aa1d-b0e9de1d3046",
   "metadata": {},
   "outputs": [
    {
     "name": "stderr",
     "output_type": "stream",
     "text": [
      "/mnt/isilon/cscb/software/anaconda3/envs/vitessce/lib/python3.8/site-packages/anndata/compat/__init__.py:232: FutureWarning: Moving element from .uns['neighbors']['distances'] to .obsp['distances'].\n",
      "\n",
      "This is where adjacency matrices should go now.\n",
      "  warn(\n"
     ]
    },
    {
     "data": {
      "text/plain": [
       "AnnData object with n_obs × n_vars = 105614 × 3000\n",
       "    obs: 'orig.ident', 'nCount_RNA', 'nFeature_RNA', 'aggr_id', 'exp.ident', 'pool', 'percent.mt', 'percent.rps', 'nCount_SCT', 'nFeature_SCT', 'SCT_snn_res.1', 'seurat_clusters', 'SCT_snn_res.0.5', 'cell_type_predicted', 'cell_type_coarse_predicted'\n",
       "    var: 'features'\n",
       "    uns: 'neighbors'\n",
       "    obsm: 'X_pca', 'X_umap'\n",
       "    varm: 'PCs'\n",
       "    obsp: 'distances'"
      ]
     },
     "execution_count": 46,
     "metadata": {},
     "output_type": "execute_result"
    }
   ],
   "source": [
    "dat = ad.read_h5ad(\"/mnt/isilon/cscb/Projects/10x/robinsonj/SCTC-JR-75/processed/Robinson_dat.h5ad\")\n",
    "dat"
   ]
  },
  {
   "cell_type": "code",
   "execution_count": 47,
   "id": "25e8afb6-1c60-497e-afd7-f4881ca5f025",
   "metadata": {},
   "outputs": [],
   "source": [
    "dat.__dict__['_raw'].__dict__['_var'] = dat.__dict__['_raw'].__dict__['_var'].rename(columns={'_index': 'features'})"
   ]
  },
  {
   "cell_type": "code",
   "execution_count": 48,
   "id": "a2c2c373-b1db-452e-948e-fd87d9f6fcc2",
   "metadata": {},
   "outputs": [],
   "source": [
    "dat.write(\"/mnt/isilon/cscb/Projects/10x/robinsonj/SCTC-JR-75/processed/Robinson_dat.h5ad\")"
   ]
  },
  {
   "cell_type": "code",
   "execution_count": null,
   "id": "e6b91c34-ce87-4777-a1cc-167eb1273251",
   "metadata": {},
   "outputs": [],
   "source": []
  }
 ],
 "metadata": {
  "kernelspec": {
   "display_name": "vitessce-general",
   "language": "python",
   "name": "vitessce"
  },
  "language_info": {
   "codemirror_mode": {
    "name": "ipython",
    "version": 3
   },
   "file_extension": ".py",
   "mimetype": "text/x-python",
   "name": "python",
   "nbconvert_exporter": "python",
   "pygments_lexer": "ipython3",
   "version": "3.8.0"
  }
 },
 "nbformat": 4,
 "nbformat_minor": 5
}
