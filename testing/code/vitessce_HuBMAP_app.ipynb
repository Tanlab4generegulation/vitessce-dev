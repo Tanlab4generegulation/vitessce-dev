{
 "cells": [
  {
   "cell_type": "markdown",
   "id": "f232567f-c7c3-4e61-81b8-7b27d95d6a20",
   "metadata": {},
   "source": [
    "# Build vitessce app for CODEX annotations\n",
    "\n",
    "- Need to include explicit instructions on how to view app"
   ]
  },
  {
   "cell_type": "code",
   "execution_count": 1,
   "id": "befbde49-2377-4229-94a2-b6ba208e0b4e",
   "metadata": {},
   "outputs": [],
   "source": [
    "import tifffile as tff\n",
    "import numpy as np\n",
    "import pandas as pd\n",
    "import matplotlib.pyplot as plt\n",
    "import os\n",
    "import anndata as ad\n",
    "import pickle as pk\n",
    "import scanpy as sc\n",
    "from vitessce.data_utils import (\n",
    "    multiplex_img_to_ome_zarr,\n",
    "    optimize_adata,\n",
    "    VAR_CHUNK_SIZE,\n",
    ")\n",
    "from vitessce import (\n",
    "    VitessceConfig,\n",
    "    VitessceChainableConfig, \n",
    "    VitessceConfigDatasetFile,\n",
    "    Component as cm,\n",
    "    CoordinationType as ct,\n",
    "    AnnDataWrapper,\n",
    "    OmeTiffWrapper,\n",
    "    OmeZarrWrapper,\n",
    "    CsvWrapper,\n",
    "    MultiImageWrapper,\n",
    "    AbstractWrapper,\n",
    ")\n",
    "import json\n",
    "from urllib.parse import quote_plus"
   ]
  },
  {
   "cell_type": "code",
   "execution_count": 15,
   "id": "da1b1f67-9309-42df-b392-45f0cf52ab0f",
   "metadata": {},
   "outputs": [
    {
     "name": "stderr",
     "output_type": "stream",
     "text": [
      "/mnt/isilon/cscb/software/anaconda3/envs/vitessce/lib/python3.8/site-packages/anndata/compat/__init__.py:232: FutureWarning: Moving element from .uns['neighbors']['distances'] to .obsp['distances'].\n",
      "\n",
      "This is where adjacency matrices should go now.\n",
      "  warn(\n"
     ]
    },
    {
     "data": {
      "text/plain": [
       "AnnData object with n_obs × n_vars = 886525 × 49\n",
       "    obs: 'nCount_CODEX', 'nFeature_CODEX', 'orig.ident', 'CellID', 'Size', 'x.coord', 'y.coord', 'DAPI', 'Metadata_CD19', 'Metadata_ASMA', 'Metadata_CD4', 'Metadata_CD44', 'Metadata_CD71', 'Metadata_CD271', 'Metadata_CD90', 'Metadata_VIM', 'Metadata_CD68', 'Metadata_SPINK2', 'Metadata_CD117', 'Metadata_CD45RA', 'Metadata_FOXC1', 'Metadata_CD61', 'Metadata_CD45', 'Metadata_CD8', 'Metadata_CD49F', 'Metadata_CD11C', 'Metadata_VECAD', 'Metadata_CD15', 'ADIPOQ', 'Metadata_CD123', 'Metadata_CD138', 'Metadata_CD14', 'Metadata_PLP1', 'Metadata_CD11B', 'Metadata_HLA.DR', 'Metadata_CD34', 'Metadata_CD79A', 'Metadata_CD10', 'Metadata_PAX5', 'Metadata_MastCellTryptase', 'Metadata_TGFB1', 'Metadata_VCAM1', 'Metadata_CD146', 'Ki67', 'Metadata_CD3e', 'Metadata_CD33', 'Metadata_GATA1', 'CD56', 'Metadata_CXCL12', 'NAKATPASE', 'Metadata_BCL2', 'Metadata_GYPC', 'Metadata_HIF1A', 'Metadata_MPO', 'Metadata_OXPHOS', 'Metadata_CD38', 'Metadata_CD141', 'Metadata_BCAT', 'Metadata_PDPN', 'Metadata_CD163', 'Metadata_CXCR4', 'RowSum', 'CODEX_snn_res.1.5', 'seurat_clusters', 'integrated_snn_res.0.5', 'cluster_anno_l1', 'cluster_anno_l2', 'cluster_anno_coarse'\n",
       "    var: 'CODEX_features', '_index', 'features'\n",
       "    uns: 'neighbors'\n",
       "    obsm: 'X_UMAP_dim30', 'X_pca', 'X_umap'\n",
       "    varm: 'PCs'\n",
       "    layers: 'CODEX'\n",
       "    obsp: 'distances'"
      ]
     },
     "execution_count": 15,
     "metadata": {},
     "output_type": "execute_result"
    }
   ],
   "source": [
    "adata = ad.read_h5ad(\"/mnt/isilon/cscb/Projects/HubMAP/processed/seurat/CODEX/immune.combined_final_040523.h5ad\")\n",
    "adata"
   ]
  },
  {
   "cell_type": "code",
   "execution_count": 25,
   "id": "f66bbec6-ecdb-42cf-bb58-14bfe42674cf",
   "metadata": {},
   "outputs": [],
   "source": [
    "adata.__dict__['_raw'].__dict__['_var'] = adata.__dict__['_raw'].__dict__['_var'].rename(columns={'_index': 'features'})"
   ]
  },
  {
   "cell_type": "code",
   "execution_count": 8,
   "id": "ad6c201b-bc0d-4f3b-a787-49ea7edcb4f3",
   "metadata": {},
   "outputs": [],
   "source": [
    "# del(adata.var['_index'])"
   ]
  },
  {
   "cell_type": "code",
   "execution_count": 21,
   "id": "08fe1534-0faf-4c9a-9a0d-06b8065e0847",
   "metadata": {
    "tags": []
   },
   "outputs": [],
   "source": [
    "adata.var_names = adata.__dict__['_raw'].__dict__['_var']['_index']\n",
    "# adata.__dict__['_raw'].__dict__['_var']['_index']"
   ]
  },
  {
   "cell_type": "code",
   "execution_count": 22,
   "id": "11515b9d-0887-4475-a5f8-b1a5ef174eb1",
   "metadata": {},
   "outputs": [],
   "source": [
    "out = adata.copy()\n",
    "out.obs = out.obs.loc[:,['orig.ident', 'nCount_CODEX', 'nFeature_CODEX','cluster_anno_l1', 'cluster_anno_l2', 'cluster_anno_coarse']]\n",
    "out.__dict__['_raw'].__dict__['_var'] = out.__dict__['_raw'].__dict__['_var'].rename(columns={'_index': 'features'})"
   ]
  },
  {
   "cell_type": "code",
   "execution_count": 30,
   "id": "761f6545-34e1-43f5-81ed-4fbb4176c7f4",
   "metadata": {},
   "outputs": [],
   "source": [
    "out.__dict__['_var'].drop(columns=[\"_index\"], inplace=True)"
   ]
  },
  {
   "cell_type": "code",
   "execution_count": 31,
   "id": "35f1290d-784f-462c-9f37-90e014d1c70e",
   "metadata": {},
   "outputs": [],
   "source": [
    "out.write(\"/mnt/isilon/cscb/Projects/HubMAP/processed/seurat/CODEX/immune.combined_forCellxGene.h5ad\")"
   ]
  },
  {
   "cell_type": "code",
   "execution_count": 2,
   "id": "ce500177-0a20-4a0b-a683-bb0c2ac5a2a6",
   "metadata": {},
   "outputs": [],
   "source": [
    "adata = ad.read_h5ad(\"/mnt/isilon/cscb/Projects/HubMAP/processed/seurat/CODEX/immune.combined_forCellxGene.h5ad\")"
   ]
  },
  {
   "cell_type": "code",
   "execution_count": 3,
   "id": "fe0bf6bf-b3ff-4d4a-bd7a-9a71f042d165",
   "metadata": {},
   "outputs": [],
   "source": [
    "zarr_filepath = \"/mnt/isilon/cscb/Projects/HubMAP/processed/seurat/CODEX/vite_adata.zarr\""
   ]
  },
  {
   "cell_type": "code",
   "execution_count": 6,
   "id": "25ec2425-79ae-4db7-9b1b-4de97907f9a7",
   "metadata": {},
   "outputs": [],
   "source": [
    "adata_out = optimize_adata(\n",
    "    adata,\n",
    "    obs_cols=[\"orig.ident\",\"cluster_anno_l1\",\"cluster_anno_l2\",\"cluster_anno_coarse\"],\n",
    "    obsm_keys=[\"X_umap\", \"X_UMAP_dim30\"],\n",
    "    optimize_X=True,\n",
    ")\n",
    "adata_out.write_zarr(zarr_filepath, chunks=[adata_out.shape[0], VAR_CHUNK_SIZE])"
   ]
  },
  {
   "cell_type": "code",
   "execution_count": 15,
   "id": "d43e5eef-3cde-4d31-a1da-8f2ee41ed43a",
   "metadata": {},
   "outputs": [],
   "source": [
    "# just getting the local server running\n",
    "vc = VitessceConfig(schema_version=\"1.0.15\", name='CODEX', description='Testing small slice of CODEX image')\n",
    "# \"obs...\" stuff shouldn't matter...\n",
    "dataset = vc.add_dataset(name='R1reg1_obs').add_object(AnnDataWrapper(\n",
    "    adata_path=zarr_filepath,\n",
    "    obs_set_paths=[\"obs/new_pheno\"],\n",
    "    obs_set_names=[\"phenotype\"],\n",
    "    obs_embedding_paths=[\"obsm/X_umap\", \"obsm/X_pca\"],\n",
    "    obs_embedding_names=[\"UMAP\", \"PCA\"],\n",
    "    obs_feature_matrix_path=\"X\"\n",
    "))\n",
    "lc = vc.add_view(cm.LAYER_CONTROLLER, dataset=dataset)\n",
    "umap = vc.add_view(cm.SCATTERPLOT, dataset=dataset, mapping=\"UMAP\")\n",
    "cell_sets = vc.add_view(cm.OBS_SETS, dataset=dataset)\n",
    "genes = vc.add_view(cm.FEATURE_LIST, dataset=dataset)\n"
   ]
  },
  {
   "cell_type": "code",
   "execution_count": 17,
   "id": "c3186a1b-daba-4562-ba53-8617828ccb36",
   "metadata": {},
   "outputs": [
    {
     "name": "stdout",
     "output_type": "stream",
     "text": [
      "VitessceWidget(config={'version': '1.0.15', 'name': 'CODEX', 'description': 'Testing small slice of CODEX image', 'datasets': [{'uid': 'A', 'name': 'R1reg1_obs', 'files': [{'fileType': 'anndata.zarr', 'url': 'http://localhost:8000/A/0/3fb0b613-269d-4f7c-a971-b2c29d0cda52', 'options': {'obsEmbedding': [{'path': 'obsm/X_umap', 'dims': [0, 1], 'embeddingType': 'UMAP'}, {'path': 'obsm/X_pca', 'dims': [0, 1], 'embeddingType': 'PCA'}], 'obsSets': [{'name': 'phenotype', 'path': 'obs/new_pheno'}], 'obsFeatureMatrix': {'path': 'X'}}}]}], 'coordinationSpace': {'dataset': {'A': 'A'}, 'embeddingType': {'A': 'UMAP'}}, 'layout': [{'component': 'layerController', 'coordinationScopes': {'dataset': 'A'}, 'x': 0, 'y': 0, 'w': 1, 'h': 1}, {'component': 'scatterplot', 'coordinationScopes': {'dataset': 'A', 'embeddingType': 'A'}, 'x': 0, 'y': 0, 'w': 1, 'h': 1}, {'component': 'obsSets', 'coordinationScopes': {'dataset': 'A'}, 'x': 0, 'y': 0, 'w': 1, 'h': 1}, {'component': 'featureList', 'coordinationScopes': {'dataset': 'A'}, 'x': 0, 'y': 0, 'w': 1, 'h': 1}], 'initStrategy': 'auto'}, uid='5467')\n"
     ]
    }
   ],
   "source": [
    "vw = vc.widget()\n",
    "print(vw)"
   ]
  },
  {
   "cell_type": "code",
   "execution_count": 21,
   "id": "269d020f-8b02-496e-bc06-39563aa48177",
   "metadata": {},
   "outputs": [
    {
     "data": {
      "text/plain": [
       "dict_keys(['config', 'background_servers', 'base_dir'])"
      ]
     },
     "execution_count": 21,
     "metadata": {},
     "output_type": "execute_result"
    }
   ],
   "source": [
    "vc.__dict__.keys()"
   ]
  },
  {
   "cell_type": "code",
   "execution_count": 17,
   "id": "9ed3bfde-8e82-4338-afc7-8d4fbb4c79fe",
   "metadata": {},
   "outputs": [],
   "source": [
    "# HuBMAP style\n",
    "conf = VitessceChainableConfig(\n",
    "    name=\"R1_reg1_expr\", description=\"\", schema_version=\"1.0.7\" # upgraded schema from 1.0.7\n",
    ").add_dataset(\n",
    "    uid=\"A\",\n",
    "    name=\"R1_reg1\",\n",
    "    files=[\n",
    "        VitessceConfigDatasetFile(\n",
    "            # data_type=\"cells\",\n",
    "            file_type=\"anndata-cells.zarr\",\n",
    "            # url=\"http://localhost:8000/A/0/3fb0b613-269d-4f7c-a971-b2c29d0cda52\",\n",
    "            url=\"https://cscb.research.chop.edu/share_data/HuBMAP/A/0/5e3a83c0-4f0c-4263-84ba-fa2dd3e10687\",\n",
    "            options={\n",
    "                \"mappings\": {\"UMAP\": {\"key\": \"obsm/X_umap\", \"dims\": [0, 1]}}, # this might be how I apply segmentations with JSON, then set_coordination_value()...\n",
    "                \"factors\": [\n",
    "                    \"obs/orig.ident\",\n",
    "                    \"obs/cluster_anno_coarse\",\n",
    "                    \"obs/cluster_anno_l1\",\n",
    "                    \"obs/cluster_anno_l2\",\n",
    "                ],\n",
    "            },\n",
    "        ),\n",
    "        VitessceConfigDatasetFile(\n",
    "            # data_type=\"cell-sets\",\n",
    "            file_type=\"anndata-cell-sets.zarr\",\n",
    "            url=\"https://cscb.research.chop.edu/share_data/HuBMAP/A/0/5e3a83c0-4f0c-4263-84ba-fa2dd3e10687\",\n",
    "            options=[\n",
    "                {\n",
    "                    \"groupName\": \"origin\",\n",
    "                    \"setName\": \"obs/orig.ident\",\n",
    "                },\n",
    "                {\n",
    "                    \"groupName\": \"celltype_coarse\",\n",
    "                    \"setName\": \"obs/cluster_anno_coarse\",\n",
    "                },\n",
    "                {\n",
    "                    \"groupName\": \"celltype_l1\",\n",
    "                    \"setName\": \"obs/cluster_anno_l1\",\n",
    "                },\n",
    "                {\n",
    "                    \"groupName\": \"celltype_l2\",\n",
    "                    \"setName\": \"obs/cluster_anno_l2\",\n",
    "                },\n",
    "            ],\n",
    "        ),\n",
    "        VitessceConfigDatasetFile(\n",
    "            # data_type=\"expression-matrix\",\n",
    "            file_type=\"anndata-expression-matrix.zarr\",\n",
    "            url=\"https://cscb.research.chop.edu/share_data/HuBMAP/A/0/5e3a83c0-4f0c-4263-84ba-fa2dd3e10687\",\n",
    "            options={\"matrix\": \"X\"},\n",
    "        ),\n",
    "    ],\n",
    ").set_coordination_value(\n",
    "    c_type=\"embeddingType\", c_scope=\"A\", c_value=\"UMAP\"\n",
    ").add_view(\n",
    "    dataset_uid=\"A\", component=\"description\", x=0, y=8, w=3, h=4\n",
    ").add_view(\n",
    "    dataset_uid=\"A\",\n",
    "    component=\"scatterplot\",\n",
    "    x=0,\n",
    "    y=0,\n",
    "    w=6,\n",
    "    h=6,\n",
    "    coordination_scopes={\"embeddingType\": \"A\"},\n",
    ").add_view(\n",
    "    dataset_uid=\"A\", component=\"cellSets\", x=6, y=5, w=2, h=7\n",
    ").add_view(\n",
    "    dataset_uid=\"A\",\n",
    "    component=\"genes\",\n",
    "    x=6,\n",
    "    y=0,\n",
    "    w=2,\n",
    "    h=5,\n",
    "    props={\"variablesLabelOverride\": \"antigen\"},\n",
    ").add_view(\n",
    "    dataset_uid=\"A\",\n",
    "    component=\"heatmap\",\n",
    "    x=0,\n",
    "    y=6,\n",
    "    w=6,\n",
    "    h=4,\n",
    "    props={\"variablesLabelOverride\": \"antigen\", \"transpose\": True},\n",
    ")\n",
    "\n",
    "# conf.widget()"
   ]
  },
  {
   "cell_type": "code",
   "execution_count": 19,
   "id": "ad444ef1-c7b0-4794-899a-e0693b6f61c4",
   "metadata": {},
   "outputs": [
    {
     "name": "stdout",
     "output_type": "stream",
     "text": [
      "VitessceWidget(config={'version': '1.0.7', 'name': 'R1_reg1_expr', 'description': '', 'datasets': [{'uid': 'A', 'name': 'R1_reg1', 'files': [{'fileType': 'anndata-cells.zarr', 'url': 'https://cscb.research.chop.edu/share_data/HuBMAP/A/0/5e3a83c0-4f0c-4263-84ba-fa2dd3e10687', 'options': {'mappings': {'UMAP': {'key': 'obsm/X_umap', 'dims': [0, 1]}}, 'factors': ['obs/orig.ident', 'obs/cluster_anno_coarse', 'obs/cluster_anno_l1', 'obs/cluster_anno_l2']}}, {'fileType': 'anndata-cell-sets.zarr', 'url': 'https://cscb.research.chop.edu/share_data/HuBMAP/A/0/5e3a83c0-4f0c-4263-84ba-fa2dd3e10687', 'options': [{'groupName': 'origin', 'setName': 'obs/orig.ident'}, {'groupName': 'celltype_coarse', 'setName': 'obs/cluster_anno_coarse'}, {'groupName': 'celltype_l1', 'setName': 'obs/cluster_anno_l1'}, {'groupName': 'celltype_l2', 'setName': 'obs/cluster_anno_l2'}]}, {'fileType': 'anndata-expression-matrix.zarr', 'url': 'https://cscb.research.chop.edu/share_data/HuBMAP/A/0/5e3a83c0-4f0c-4263-84ba-fa2dd3e10687', 'options': {'matrix': 'X'}}]}], 'coordinationSpace': {'dataset': {'A': 'A'}, 'embeddingType': {'A': 'UMAP'}}, 'layout': [{'component': 'description', 'coordinationScopes': {'dataset': 'A'}, 'x': 0, 'y': 8, 'w': 3, 'h': 4}, {'component': 'scatterplot', 'coordinationScopes': {'dataset': 'A', 'embeddingType': 'A'}, 'x': 0, 'y': 0, 'w': 6, 'h': 6}, {'component': 'cellSets', 'coordinationScopes': {'dataset': 'A'}, 'x': 6, 'y': 5, 'w': 2, 'h': 7}, {'component': 'genes', 'coordinationScopes': {'dataset': 'A'}, 'x': 6, 'y': 0, 'w': 2, 'h': 5, 'props': {'variablesLabelOverride': 'antigen'}}, {'component': 'heatmap', 'coordinationScopes': {'dataset': 'A'}, 'x': 0, 'y': 6, 'w': 6, 'h': 4, 'props': {'variablesLabelOverride': 'antigen', 'transpose': True}}], 'initStrategy': 'auto'}, uid='4ca3')\n"
     ]
    }
   ],
   "source": [
    "vw = conf.widget()\n",
    "print(vw)"
   ]
  },
  {
   "cell_type": "code",
   "execution_count": 20,
   "id": "7c8e8159-26a3-4812-9ef3-dd84a1b64aac",
   "metadata": {},
   "outputs": [],
   "source": [
    "config_dict = conf.export(to='files', base_url='https://cscb.research.chop.edu/share_data/HuBMAP', out_dir='.')"
   ]
  },
  {
   "cell_type": "code",
   "execution_count": 21,
   "id": "dfb268ff-c50d-4ec5-9340-a245621a168c",
   "metadata": {},
   "outputs": [
    {
     "data": {
      "text/plain": [
       "{'version': '1.0.7',\n",
       " 'name': 'R1_reg1_expr',\n",
       " 'description': '',\n",
       " 'datasets': [{'uid': 'A',\n",
       "   'name': 'R1_reg1',\n",
       "   'files': [{'fileType': 'anndata-cells.zarr',\n",
       "     'url': 'https://cscb.research.chop.edu/share_data/HuBMAP/A/0/5e3a83c0-4f0c-4263-84ba-fa2dd3e10687',\n",
       "     'options': {'mappings': {'UMAP': {'key': 'obsm/X_umap', 'dims': [0, 1]}},\n",
       "      'factors': ['obs/orig.ident',\n",
       "       'obs/cluster_anno_coarse',\n",
       "       'obs/cluster_anno_l1',\n",
       "       'obs/cluster_anno_l2']}},\n",
       "    {'fileType': 'anndata-cell-sets.zarr',\n",
       "     'url': 'https://cscb.research.chop.edu/share_data/HuBMAP/A/0/5e3a83c0-4f0c-4263-84ba-fa2dd3e10687',\n",
       "     'options': [{'groupName': 'origin', 'setName': 'obs/orig.ident'},\n",
       "      {'groupName': 'celltype_coarse', 'setName': 'obs/cluster_anno_coarse'},\n",
       "      {'groupName': 'celltype_l1', 'setName': 'obs/cluster_anno_l1'},\n",
       "      {'groupName': 'celltype_l2', 'setName': 'obs/cluster_anno_l2'}]},\n",
       "    {'fileType': 'anndata-expression-matrix.zarr',\n",
       "     'url': 'https://cscb.research.chop.edu/share_data/HuBMAP/A/0/5e3a83c0-4f0c-4263-84ba-fa2dd3e10687',\n",
       "     'options': {'matrix': 'X'}}]}],\n",
       " 'coordinationSpace': {'dataset': {'A': 'A'}, 'embeddingType': {'A': 'UMAP'}},\n",
       " 'layout': [{'component': 'description',\n",
       "   'coordinationScopes': {'dataset': 'A'},\n",
       "   'x': 0,\n",
       "   'y': 8,\n",
       "   'w': 3,\n",
       "   'h': 4},\n",
       "  {'component': 'scatterplot',\n",
       "   'coordinationScopes': {'dataset': 'A', 'embeddingType': 'A'},\n",
       "   'x': 0,\n",
       "   'y': 0,\n",
       "   'w': 6,\n",
       "   'h': 6},\n",
       "  {'component': 'cellSets',\n",
       "   'coordinationScopes': {'dataset': 'A'},\n",
       "   'x': 6,\n",
       "   'y': 5,\n",
       "   'w': 2,\n",
       "   'h': 7},\n",
       "  {'component': 'genes',\n",
       "   'coordinationScopes': {'dataset': 'A'},\n",
       "   'x': 6,\n",
       "   'y': 0,\n",
       "   'w': 2,\n",
       "   'h': 5,\n",
       "   'props': {'variablesLabelOverride': 'antigen'}},\n",
       "  {'component': 'heatmap',\n",
       "   'coordinationScopes': {'dataset': 'A'},\n",
       "   'x': 0,\n",
       "   'y': 6,\n",
       "   'w': 6,\n",
       "   'h': 4,\n",
       "   'props': {'variablesLabelOverride': 'antigen', 'transpose': True}}],\n",
       " 'initStrategy': 'auto'}"
      ]
     },
     "execution_count": 21,
     "metadata": {},
     "output_type": "execute_result"
    }
   ],
   "source": [
    "config_dict"
   ]
  },
  {
   "cell_type": "code",
   "execution_count": 16,
   "id": "1fc1784b-6f5f-438e-885d-f52d24258e6d",
   "metadata": {
    "tags": []
   },
   "outputs": [
    {
     "data": {
      "text/plain": [
       "'http://vitessce.io/?url=data:,%7B%22version%22%3A+%221.0.7%22%2C+%22name%22%3A+%22R1_reg1_expr%22%2C+%22description%22%3A+%22%22%2C+%22datasets%22%3A+%5B%7B%22uid%22%3A+%22A%22%2C+%22name%22%3A+%22R1_reg1%22%2C+%22files%22%3A+%5B%7B%22fileType%22%3A+%22anndata-cells.zarr%22%2C+%22url%22%3A+%22https%3A%2F%2Fcscb.research.chop.edu%2Fshare_data%2FHuBMAP%2FA%2F0%2F3fb0b613-269d-4f7c-a971-b2c29d0cda52%22%2C+%22options%22%3A+%7B%22mappings%22%3A+%7B%22UMAP%22%3A+%7B%22key%22%3A+%22obsm%2FX_umap%22%2C+%22dims%22%3A+%5B0%2C+1%5D%7D%7D%2C+%22factors%22%3A+%5B%22obs%2Forig.ident%22%2C+%22obs%2Fcluster_anno_coarse%22%2C+%22obs%2Fcluster_anno_l1%22%2C+%22obs%2Fcluster_anno_l2%22%5D%7D%7D%2C+%7B%22fileType%22%3A+%22anndata-cell-sets.zarr%22%2C+%22url%22%3A+%22https%3A%2F%2Fcscb.research.chop.edu%2Fshare_data%2FHuBMAP%2FA%2F0%2F3fb0b613-269d-4f7c-a971-b2c29d0cda52%22%2C+%22options%22%3A+%5B%7B%22groupName%22%3A+%22origin%22%2C+%22setName%22%3A+%22obs%2Forig.ident%22%7D%2C+%7B%22groupName%22%3A+%22celltype_coarse%22%2C+%22setName%22%3A+%22obs%2Fcluster_anno_coarse%22%7D%2C+%7B%22groupName%22%3A+%22celltype_l1%22%2C+%22setName%22%3A+%22obs%2Fcluster_anno_l1%22%7D%2C+%7B%22groupName%22%3A+%22celltype_l2%22%2C+%22setName%22%3A+%22obs%2Fcluster_anno_l2%22%7D%5D%7D%2C+%7B%22fileType%22%3A+%22anndata-expression-matrix.zarr%22%2C+%22url%22%3A+%22https%3A%2F%2Fcscb.research.chop.edu%2Fshare_data%2FHuBMAP%2FA%2F0%2F3fb0b613-269d-4f7c-a971-b2c29d0cda52%22%2C+%22options%22%3A+%7B%22matrix%22%3A+%22X%22%7D%7D%5D%7D%5D%2C+%22coordinationSpace%22%3A+%7B%22dataset%22%3A+%7B%22A%22%3A+%22A%22%7D%2C+%22embeddingType%22%3A+%7B%22A%22%3A+%22UMAP%22%7D%7D%2C+%22layout%22%3A+%5B%7B%22component%22%3A+%22description%22%2C+%22coordinationScopes%22%3A+%7B%22dataset%22%3A+%22A%22%7D%2C+%22x%22%3A+0%2C+%22y%22%3A+8%2C+%22w%22%3A+3%2C+%22h%22%3A+4%7D%2C+%7B%22component%22%3A+%22scatterplot%22%2C+%22coordinationScopes%22%3A+%7B%22dataset%22%3A+%22A%22%2C+%22embeddingType%22%3A+%22A%22%7D%2C+%22x%22%3A+0%2C+%22y%22%3A+0%2C+%22w%22%3A+6%2C+%22h%22%3A+6%7D%2C+%7B%22component%22%3A+%22cellSets%22%2C+%22coordinationScopes%22%3A+%7B%22dataset%22%3A+%22A%22%7D%2C+%22x%22%3A+6%2C+%22y%22%3A+5%2C+%22w%22%3A+2%2C+%22h%22%3A+7%7D%2C+%7B%22component%22%3A+%22genes%22%2C+%22coordinationScopes%22%3A+%7B%22dataset%22%3A+%22A%22%7D%2C+%22x%22%3A+6%2C+%22y%22%3A+0%2C+%22w%22%3A+2%2C+%22h%22%3A+5%2C+%22props%22%3A+%7B%22variablesLabelOverride%22%3A+%22antigen%22%7D%7D%2C+%7B%22component%22%3A+%22heatmap%22%2C+%22coordinationScopes%22%3A+%7B%22dataset%22%3A+%22A%22%7D%2C+%22x%22%3A+0%2C+%22y%22%3A+6%2C+%22w%22%3A+6%2C+%22h%22%3A+4%2C+%22props%22%3A+%7B%22variablesLabelOverride%22%3A+%22antigen%22%2C+%22transpose%22%3A+true%7D%7D%5D%2C+%22initStrategy%22%3A+%22auto%22%7D'"
      ]
     },
     "execution_count": 16,
     "metadata": {},
     "output_type": "execute_result"
    }
   ],
   "source": [
    "vitessce_url = \"http://vitessce.io/?url=data:,\" + quote_plus(json.dumps(config_dict))\n",
    "vitessce_url"
   ]
  },
  {
   "cell_type": "code",
   "execution_count": 26,
   "id": "f1edda35-ec7d-4202-a24d-e016df7f5e99",
   "metadata": {
    "tags": []
   },
   "outputs": [
    {
     "data": {
      "text/html": [
       "\n",
       "        <div id=\"vitessce122c\"></div>\n",
       "\n",
       "        <script type=\"module\">\n",
       "\n",
       "            \n",
       "import * as d3 from 'https://esm.sh/d3-require@1.3.0';\n",
       "import React from 'https://esm.sh/react@18.2.0';\n",
       "import ReactDOM from 'https://esm.sh/react-dom@18.2.0';\n",
       "\n",
       "function asEsModule(component) {\n",
       "  return {\n",
       "    __esModule: true,\n",
       "    default: component,\n",
       "  };\n",
       "}\n",
       "\n",
       "const e = React.createElement;\n",
       "\n",
       "const prefersDark = window.matchMedia && window.matchMedia('(prefers-color-scheme: dark)').matches;\n",
       "\n",
       "// The jupyter server may be running through a proxy,\n",
       "// which means that the client needs to prepend the part of the URL before /proxy/8000 such as\n",
       "// https://hub.gke2.mybinder.org/user/vitessce-vitessce-python-swi31vcv/proxy/8000/A/0/cells\n",
       "function prependBaseUrl(config, proxy, hasHostName) {\n",
       "  if(!proxy || hasHostName) {\n",
       "    return config;\n",
       "  }\n",
       "  const { origin } = new URL(window.location.href);\n",
       "  let baseUrl;\n",
       "  const jupyterLabConfigEl = document.getElementById('jupyter-config-data');\n",
       "\n",
       "  if (jupyterLabConfigEl) {\n",
       "    // This is jupyter lab\n",
       "    baseUrl = JSON.parse(jupyterLabConfigEl.textContent || '').baseUrl;\n",
       "  } else {\n",
       "    // This is jupyter notebook\n",
       "    baseUrl = document.getElementsByTagName('body')[0].getAttribute('data-base-url');\n",
       "  }\n",
       "  return {\n",
       "    ...config,\n",
       "    datasets: config.datasets.map(d => ({\n",
       "      ...d,\n",
       "      files: d.files.map(f => ({\n",
       "        ...f,\n",
       "        url: `${origin}${baseUrl}${f.url}`,\n",
       "      })),\n",
       "    })),\n",
       "  };\n",
       "}\n",
       "\n",
       "export function render(view) {\n",
       "    const cssUid = view.model.get('uid');\n",
       "    const jsPackageVersion = view.model.get('js_package_version');\n",
       "    let customRequire = d3.require;\n",
       "    const customJsUrl = view.model.get('custom_js_url');\n",
       "    if(customJsUrl.length > 0) {\n",
       "        customRequire = d3.requireFrom(async () => {\n",
       "            return customJsUrl;\n",
       "        });\n",
       "    }\n",
       "\n",
       "    const aliasedRequire = customRequire.alias({\n",
       "        \"react\": React,\n",
       "        \"react-dom\": ReactDOM\n",
       "    });\n",
       "\n",
       "    const Vitessce = React.lazy(() => {\n",
       "        // Workaround for preventing side effects due to loading the Vitessce UMD bundle twice\n",
       "        // running createGenerateClassNames twice.\n",
       "        // Alternate solution should be possible in JS release v2.0.3.\n",
       "        // Reference: https://github.com/vitessce/vitessce/pull/1391\n",
       "        return aliasedRequire(`vitessce@${jsPackageVersion}`)\n",
       "            .then(vitessce => asEsModule(vitessce.Vitessce));\n",
       "    });\n",
       "\n",
       "    function VitessceWidget(props) {\n",
       "        const { model } = props;\n",
       "\n",
       "        const config = prependBaseUrl(model.get('config'), model.get('proxy'), model.get('has_host_name'));\n",
       "        const height = model.get('height');\n",
       "        const theme = model.get('theme') === 'auto' ? (prefersDark ? 'dark' : 'light') : model.get('theme');\n",
       "\n",
       "        const divRef = React.useRef();\n",
       "\n",
       "        React.useEffect(() => {\n",
       "            if(!divRef.current) {\n",
       "                return () => {};\n",
       "            }\n",
       "\n",
       "            function handleMouseEnter() {\n",
       "                const jpn = divRef.current.closest('.jp-Notebook');\n",
       "                if(jpn) {\n",
       "                    jpn.style.overflow = \"hidden\";\n",
       "                }\n",
       "            }\n",
       "            function handleMouseLeave(event) {\n",
       "                if(event.relatedTarget === null || (event.relatedTarget && event.relatedTarget.closest('.jp-Notebook')?.length)) return;\n",
       "                const jpn = divRef.current.closest('.jp-Notebook');\n",
       "                if(jpn) {\n",
       "                    jpn.style.overflow = \"auto\";\n",
       "                }\n",
       "            }\n",
       "            divRef.current.addEventListener(\"mouseenter\", handleMouseEnter);\n",
       "            divRef.current.addEventListener(\"mouseleave\", handleMouseLeave);\n",
       "\n",
       "            return () => {\n",
       "                if(divRef.current) {\n",
       "                    divRef.current.removeEventListener(\"mouseenter\", handleMouseEnter);\n",
       "                    divRef.current.removeEventListener(\"mouseleave\", handleMouseLeave);\n",
       "                }\n",
       "            };\n",
       "        }, [divRef]);\n",
       "\n",
       "        const onConfigChange = React.useCallback((config) => {\n",
       "            model.set('config', config);\n",
       "            model.save_changes();\n",
       "        }, [model]);\n",
       "\n",
       "        const vitessceProps = { height, theme, config, onConfigChange, uid: cssUid };\n",
       "\n",
       "        return e('div', { ref: divRef, style: { height: height + 'px' } },\n",
       "            e(React.Suspense, { fallback: e('div', {}, 'Loading...') },\n",
       "                e(Vitessce, vitessceProps)\n",
       "            )\n",
       "        );\n",
       "    }\n",
       "\n",
       "    ReactDOM.render(e(VitessceWidget, { model: view.model }), view.el);\n",
       "}\n",
       "\n",
       "\n",
       "            render({\n",
       "                model: {\n",
       "                    get: (key) => {\n",
       "                        const vals = {\"uid\": \"vitessce122c\", \"js_package_version\": \"2.0.3\", \"custom_js_url\": \"\", \"proxy\": false, \"has_host_name\": false, \"height\": 600, \"theme\": \"auto\", \"config\": {\"version\": \"1.0.7\", \"name\": \"R1_reg1_expr\", \"description\": \"\", \"datasets\": [{\"uid\": \"A\", \"name\": \"R1_reg1\", \"files\": [{\"fileType\": \"anndata-cells.zarr\", \"url\": \"https://cscb.research.chop.edu/share_data/HuBMAP/A/0/5e3a83c0-4f0c-4263-84ba-fa2dd3e10687\", \"options\": {\"mappings\": {\"UMAP\": {\"key\": \"obsm/X_umap\", \"dims\": [0, 1]}}, \"factors\": [\"obs/orig.ident\", \"obs/cluster_anno_coarse\", \"obs/cluster_anno_l1\", \"obs/cluster_anno_l2\"]}}, {\"fileType\": \"anndata-cell-sets.zarr\", \"url\": \"https://cscb.research.chop.edu/share_data/HuBMAP/A/0/5e3a83c0-4f0c-4263-84ba-fa2dd3e10687\", \"options\": [{\"groupName\": \"origin\", \"setName\": \"obs/orig.ident\"}, {\"groupName\": \"celltype_coarse\", \"setName\": \"obs/cluster_anno_coarse\"}, {\"groupName\": \"celltype_l1\", \"setName\": \"obs/cluster_anno_l1\"}, {\"groupName\": \"celltype_l2\", \"setName\": \"obs/cluster_anno_l2\"}]}, {\"fileType\": \"anndata-expression-matrix.zarr\", \"url\": \"https://cscb.research.chop.edu/share_data/HuBMAP/A/0/5e3a83c0-4f0c-4263-84ba-fa2dd3e10687\", \"options\": {\"matrix\": \"X\"}}]}], \"coordinationSpace\": {\"dataset\": {\"A\": \"A\"}, \"embeddingType\": {\"A\": \"UMAP\"}}, \"layout\": [{\"component\": \"description\", \"coordinationScopes\": {\"dataset\": \"A\"}, \"x\": 0, \"y\": 8, \"w\": 3, \"h\": 4}, {\"component\": \"scatterplot\", \"coordinationScopes\": {\"dataset\": \"A\", \"embeddingType\": \"A\"}, \"x\": 0, \"y\": 0, \"w\": 6, \"h\": 6}, {\"component\": \"cellSets\", \"coordinationScopes\": {\"dataset\": \"A\"}, \"x\": 6, \"y\": 5, \"w\": 2, \"h\": 7}, {\"component\": \"genes\", \"coordinationScopes\": {\"dataset\": \"A\"}, \"x\": 6, \"y\": 0, \"w\": 2, \"h\": 5, \"props\": {\"variablesLabelOverride\": \"antigen\"}}, {\"component\": \"heatmap\", \"coordinationScopes\": {\"dataset\": \"A\"}, \"x\": 0, \"y\": 6, \"w\": 6, \"h\": 4, \"props\": {\"variablesLabelOverride\": \"antigen\", \"transpose\": true}}], \"initStrategy\": \"auto\"}};\n",
       "                        return vals[key];\n",
       "                    },\n",
       "                    set: () => {},\n",
       "                    save_changes: () => {}\n",
       "                },\n",
       "                el: document.getElementById(\"vitessce122c\"),\n",
       "            });\n",
       "        </script>\n",
       "    "
      ],
      "text/plain": [
       "<IPython.core.display.HTML object>"
      ]
     },
     "metadata": {},
     "output_type": "display_data"
    }
   ],
   "source": [
    "conf.display()"
   ]
  },
  {
   "cell_type": "code",
   "execution_count": null,
   "id": "4c49ab0f-8d4d-4ab3-867b-c5926f488eb2",
   "metadata": {},
   "outputs": [],
   "source": []
  }
 ],
 "metadata": {
  "kernelspec": {
   "display_name": "vitessce-general",
   "language": "python",
   "name": "vitessce"
  },
  "language_info": {
   "codemirror_mode": {
    "name": "ipython",
    "version": 3
   },
   "file_extension": ".py",
   "mimetype": "text/x-python",
   "name": "python",
   "nbconvert_exporter": "python",
   "pygments_lexer": "ipython3",
   "version": "3.8.0"
  }
 },
 "nbformat": 4,
 "nbformat_minor": 5
}
